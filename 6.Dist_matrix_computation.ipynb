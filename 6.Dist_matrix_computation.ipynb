{
 "cells": [
  {
   "cell_type": "markdown",
   "id": "3343105f-a6d9-43e7-97aa-ffbc2d41bf1c",
   "metadata": {},
   "source": [
    "# Distance matrix computation from an index patient \n",
    "A distance matrix of size (n_label, n_label) is computed between the index patient and all other patients. \n",
    "\n",
    "Distance computation for each label and cross label can be found in module distance.py\n",
    "\n",
    "Input : \n",
    "A pickle file containing a dataframe of patients with following informations: \n",
    "source (file/clinical note id), patient_id, terms, Fastext Embedding, BERT embedding, label. \n",
    "Eventually : patient index file, if not, this one would be selected from the dataset\n",
    "\n",
    "\n",
    "Output : Distance Matrix of size (n_label, n_label, number of patients to compare with)\n"
   ]
  },
  {
   "cell_type": "code",
   "execution_count": 1,
   "id": "30ee3285-93d7-4caf-8d48-b42d74005b11",
   "metadata": {},
   "outputs": [],
   "source": [
    "import os\n",
    "import numpy as np\n",
    "import pandas as pd \n",
    "\n",
    "import sklearn\n",
    "from scipy.spatial.distance import cosine\n",
    "from sklearn.metrics import euclidean_distances\n",
    "from sklearn.feature_extraction.text import CountVectorizer\n",
    "\n",
    "# import local module of EMD computation along each label and between labels \n",
    "import distance \n",
    "\n",
    "file_path='./out/02022022_train_val_local_annotated_accent_lower_FastText_BERT_mean2l_Emb.pkl'\n",
    "img_path = \"./out/img_annot_Pheno_attributes/\"\n",
    "file_CLASS_path = './results/Gold_classif_expe_pheno_patient_id.csv'\n",
    "\n",
    "Embedding = \"Fasttext\" # should be Fasttext of local_BERT or EDS_BERT\n",
    "assert Embedding in ('Fasttext', 'local_BERT', 'EDS_BERT')"
   ]
  },
  {
   "cell_type": "code",
   "execution_count": 2,
   "id": "83ccf439-9c5c-43b3-9fe5-f49cdb07bef9",
   "metadata": {},
   "outputs": [
    {
     "name": "stdout",
     "output_type": "stream",
     "text": [
      "\n",
      " number of labels 23 \n",
      "Labels ['ORL', 'blessures', 'cardiovasculaires', 'chimiques', 'digestif', 'endocriniennes', 'etatsosy', 'femme', 'genetique', 'hemopathies', 'homme', 'immunitaire', 'infections', 'nerveux', 'nutritionnelles', 'oeil', 'osteomusculaires', 'parasitaires', 'peau', 'respiratoire', 'stomatognathique', 'tumeur', 'virales']\n"
     ]
    },
    {
     "data": {
      "text/html": [
       "<div>\n",
       "<style scoped>\n",
       "    .dataframe tbody tr th:only-of-type {\n",
       "        vertical-align: middle;\n",
       "    }\n",
       "\n",
       "    .dataframe tbody tr th {\n",
       "        vertical-align: top;\n",
       "    }\n",
       "\n",
       "    .dataframe thead th {\n",
       "        text-align: right;\n",
       "    }\n",
       "</style>\n",
       "<table border=\"1\" class=\"dataframe\">\n",
       "  <thead>\n",
       "    <tr style=\"text-align: right;\">\n",
       "      <th></th>\n",
       "      <th>idx</th>\n",
       "      <th>source</th>\n",
       "      <th>term</th>\n",
       "      <th>fastext_embeddings</th>\n",
       "      <th>BERT_embeddings</th>\n",
       "      <th>label</th>\n",
       "      <th>label_weight</th>\n",
       "    </tr>\n",
       "  </thead>\n",
       "  <tbody>\n",
       "    <tr>\n",
       "      <th>3201</th>\n",
       "      <td>3201</td>\n",
       "      <td>CRH_scl_sample_30.ann</td>\n",
       "      <td>kystes ovariens</td>\n",
       "      <td>[0.81571275, 12.604499, -25.561928, -6.7058015...</td>\n",
       "      <td>[-0.14426988, 0.15276805, 0.20322166, -0.00078...</td>\n",
       "      <td>femme</td>\n",
       "      <td>0.044944</td>\n",
       "    </tr>\n",
       "    <tr>\n",
       "      <th>1740</th>\n",
       "      <td>1740</td>\n",
       "      <td>CRH_scl_sample_42.ann</td>\n",
       "      <td>anti centromères positifs</td>\n",
       "      <td>[2.812077, -6.981257, -45.759495, -79.20795, 1...</td>\n",
       "      <td>[-0.23235501, 0.52911335, 0.40961814, -0.30308...</td>\n",
       "      <td>etatsosy</td>\n",
       "      <td>0.447761</td>\n",
       "    </tr>\n",
       "    <tr>\n",
       "      <th>1617</th>\n",
       "      <td>1617</td>\n",
       "      <td>CRH_taka_sample_10.ann</td>\n",
       "      <td>dents manquantes</td>\n",
       "      <td>[-3.3379304, 17.830576, -24.00285, -34.287975,...</td>\n",
       "      <td>[-0.30510905, 0.28690282, 0.13931705, -0.29548...</td>\n",
       "      <td>stomatognathique</td>\n",
       "      <td>0.005988</td>\n",
       "    </tr>\n",
       "    <tr>\n",
       "      <th>4799</th>\n",
       "      <td>4799</td>\n",
       "      <td>CRH_taka_sample_0.ann</td>\n",
       "      <td>majoration du nombre d'infarctus lacunaires en...</td>\n",
       "      <td>[-3.7410843, 15.352729, -21.703049, -18.029694...</td>\n",
       "      <td>[-0.12426093, 0.060462743, -0.15853764, 0.1929...</td>\n",
       "      <td>nerveux</td>\n",
       "      <td>0.175000</td>\n",
       "    </tr>\n",
       "    <tr>\n",
       "      <th>1197</th>\n",
       "      <td>1197</td>\n",
       "      <td>CRH_sapl_sample_10.ann</td>\n",
       "      <td>syndrome sec oculaire</td>\n",
       "      <td>[29.312986, 10.587681, -32.925625, -25.076454,...</td>\n",
       "      <td>[0.09900762, 0.57523936, 0.624562, -0.32313663...</td>\n",
       "      <td>etatsosy</td>\n",
       "      <td>0.424581</td>\n",
       "    </tr>\n",
       "  </tbody>\n",
       "</table>\n",
       "</div>"
      ],
      "text/plain": [
       "       idx                  source  \\\n",
       "3201  3201   CRH_scl_sample_30.ann   \n",
       "1740  1740   CRH_scl_sample_42.ann   \n",
       "1617  1617  CRH_taka_sample_10.ann   \n",
       "4799  4799   CRH_taka_sample_0.ann   \n",
       "1197  1197  CRH_sapl_sample_10.ann   \n",
       "\n",
       "                                                   term  \\\n",
       "3201                                    kystes ovariens   \n",
       "1740                          anti centromères positifs   \n",
       "1617                                   dents manquantes   \n",
       "4799  majoration du nombre d'infarctus lacunaires en...   \n",
       "1197                              syndrome sec oculaire   \n",
       "\n",
       "                                     fastext_embeddings  \\\n",
       "3201  [0.81571275, 12.604499, -25.561928, -6.7058015...   \n",
       "1740  [2.812077, -6.981257, -45.759495, -79.20795, 1...   \n",
       "1617  [-3.3379304, 17.830576, -24.00285, -34.287975,...   \n",
       "4799  [-3.7410843, 15.352729, -21.703049, -18.029694...   \n",
       "1197  [29.312986, 10.587681, -32.925625, -25.076454,...   \n",
       "\n",
       "                                        BERT_embeddings             label  \\\n",
       "3201  [-0.14426988, 0.15276805, 0.20322166, -0.00078...             femme   \n",
       "1740  [-0.23235501, 0.52911335, 0.40961814, -0.30308...          etatsosy   \n",
       "1617  [-0.30510905, 0.28690282, 0.13931705, -0.29548...  stomatognathique   \n",
       "4799  [-0.12426093, 0.060462743, -0.15853764, 0.1929...           nerveux   \n",
       "1197  [0.09900762, 0.57523936, 0.624562, -0.32313663...          etatsosy   \n",
       "\n",
       "      label_weight  \n",
       "3201      0.044944  \n",
       "1740      0.447761  \n",
       "1617      0.005988  \n",
       "4799      0.175000  \n",
       "1197      0.424581  "
      ]
     },
     "execution_count": 2,
     "metadata": {},
     "output_type": "execute_result"
    }
   ],
   "source": [
    "# load the dataframe\n",
    "df_init = pd.read_pickle(file_path)\n",
    "\n",
    "# in a first experiment, delete all \"etatsosy rows\"\n",
    "df = df_init.copy()\n",
    "df.drop(df.loc[df.label == 'etatsosy'].index, inplace=False)\n",
    "\n",
    "# load the labels for all the terms of the file\n",
    "labels = sorted(set(df['label']))\n",
    "n_lab = len(labels)\n",
    "print('\\n number of labels', n_lab, '\\nLabels', labels)\n",
    "\n",
    "\n",
    "\n",
    "# load the files \n",
    "files = list(set(df['source']))\n",
    "# print(\"number of files\", len(files))\n",
    "\n",
    "# Create a dictionnary  {file : [list of corresponding labels]} :\n",
    "files_dict = {}\n",
    "for i in range(len(files)):\n",
    "    files_dict[files[i]]= set(df[df['source']== files[i]].label.tolist())\n",
    "    \n",
    "df['idx']=range(len(df))\n",
    "df.sample(5)\n"
   ]
  },
  {
   "cell_type": "code",
   "execution_count": 129,
   "id": "e284724e-9167-41dd-9c43-e446e3be2601",
   "metadata": {},
   "outputs": [
    {
     "name": "stdout",
     "output_type": "stream",
     "text": [
      "150\n"
     ]
    }
   ],
   "source": [
    "# select a patient for comparison purpose : \n",
    "file_index = \"CRH_scl_sample_46.ann\"\n",
    "files_lab = files.copy()\n",
    "files_lab.remove(file_index)\n",
    "print(len(files_lab))"
   ]
  },
  {
   "cell_type": "code",
   "execution_count": 130,
   "id": "979a9481-f8ad-4b13-97f8-e088736e57a3",
   "metadata": {
    "tags": []
   },
   "outputs": [
    {
     "name": "stdout",
     "output_type": "stream",
     "text": [
      "i 30\n",
      "i 60\n",
      "i 90\n",
      "i 120\n",
      "i 150\n"
     ]
    }
   ],
   "source": [
    "# Compute Distance matrix \n",
    "\n",
    "# First by storing all distances in a dictionnary dist_dict : \n",
    "# dist_dict contains each following keys : (file, label_1, label_2) and value : distance \n",
    "dist_dict= {}\n",
    "dist_matrix = np.zeros([len(files_lab), len(labels), len(labels)])\n",
    "\n",
    "\n",
    "i = 0 \n",
    "for file in sorted(set(files_lab)):\n",
    "    j = 0\n",
    "    for lab_1 in sorted(labels): \n",
    "        k = 0\n",
    "        for lab_2 in sorted(labels): \n",
    "            if (file,lab_1,lab_2) not in dist_dict.keys(): \n",
    "                if lab_1 == lab_2:\n",
    "                    dist_dict[(file, lab_1, lab_2)] = distance.distance_files_by_lab(df, file_index, file, \n",
    "                                                                                     Embedding,lab_1, \n",
    "                                                                                     Distance_type = 'cosine', \n",
    "                                                                                     verbose = False)\n",
    "                    dist_matrix[i,j,j] = dist_dict[(file, lab_1, lab_2)]\n",
    "                else : \n",
    "                    dist_dict[(file, lab_1, lab_2)] = distance.distance_files_cross_lab(df, file_index, file, \n",
    "                                                                                        Embedding,lab_1,lab_2,\n",
    "                                                                                        Distance_type = 'cosine', \n",
    "                                                                                        verbose = False)\n",
    "                    dist_matrix[i,j,k] = dist_dict[(file, lab_1, lab_2)]\n",
    "            k += 1\n",
    "        j += 1\n",
    "                    \n",
    "    i += 1\n",
    "    if i%30 == 0:\n",
    "        print('i', i)\n",
    "    "
   ]
  },
  {
   "cell_type": "code",
   "execution_count": 131,
   "id": "470bfa83-c186-4f0a-bc67-4a7db9c85ff7",
   "metadata": {},
   "outputs": [],
   "source": [
    "# print(dist_dict[('CRH_lupus_sample_0.ann', 'etatsosy', 'osteomusculaires')])"
   ]
  },
  {
   "cell_type": "code",
   "execution_count": 132,
   "id": "bd70a5b5-684c-4c60-a15d-dc9567f2186f",
   "metadata": {},
   "outputs": [],
   "source": [
    "# In order to easily navigate from one entity to another, create a dictionnary of labels and files \n",
    "# corresponding to their  \n",
    "lab_index = {}\n",
    "for i in range(len(labels)):\n",
    "    lab_index[sorted(list(labels))[i]] = i\n",
    "\n",
    "files_index ={}\n",
    "for j in range(len(files_lab)):\n",
    "    files_index[sorted(list(files_lab))[j]] = j\n",
    "    \n",
    "    \n",
    "index_files={}\n",
    "for j in range(len(files_lab)):\n",
    "    index_files[j+1] = sorted(list(files_lab))[j]\n"
   ]
  },
  {
   "cell_type": "code",
   "execution_count": 133,
   "id": "c66bdd54-3083-49ef-9074-ea049daa0a42",
   "metadata": {},
   "outputs": [],
   "source": [
    "# dist_matrix[files_index['CRH_lupus_sample_2.ann'], lab_index['etatsosy'], lab_index['immunitaire']]"
   ]
  },
  {
   "cell_type": "code",
   "execution_count": 134,
   "id": "bac0fc30-d25a-4866-b6aa-679ab9190701",
   "metadata": {},
   "outputs": [],
   "source": [
    "# Now compute a weighted matrix in order to select only some labels of interest\n",
    "# Get labels of interest : \n",
    "label_1 = 'respiratoire'\n",
    "label_2 = 'immunitaire'\n",
    "\n",
    "\n",
    "# get their respected indexes : \n",
    "idx_1 = lab_index[label_1]\n",
    "idx_2 = lab_index[label_2]\n",
    "# idx_3 = lab_index[label_3]\n",
    "\n",
    "# give the associated weight : \n",
    "beta = 5\n",
    "\n",
    "# build the weight matrix : \n",
    "weights = np.zeros([n_lab, n_lab]) # +100\n",
    "weights[idx_1, idx_1] = weights[idx_2, idx_2] = 1\n",
    "weights[idx_1, idx_2] = weights[idx_2, idx_1] = 0.5\n",
    "\n"
   ]
  },
  {
   "cell_type": "code",
   "execution_count": 135,
   "id": "36ba5de2-bfdf-4229-98cc-eb7d9ec57ea6",
   "metadata": {},
   "outputs": [],
   "source": [
    "# weights[0:idx_1+1, 0: idx_2+1]"
   ]
  },
  {
   "cell_type": "code",
   "execution_count": 136,
   "id": "8b15343a-6f25-4c56-b5c0-e281b82fc0bf",
   "metadata": {},
   "outputs": [],
   "source": [
    "# repeat the weights matrix for all patients : \n",
    "weights_all = np.repeat(weights[np.newaxis, :,:], len(files_lab), axis = 0)"
   ]
  },
  {
   "cell_type": "code",
   "execution_count": 137,
   "id": "4740c329-7321-4d60-9a05-18b111335e39",
   "metadata": {},
   "outputs": [
    {
     "data": {
      "text/plain": [
       "((150, 23, 23), 0.5)"
      ]
     },
     "execution_count": 137,
     "metadata": {},
     "output_type": "execute_result"
    }
   ],
   "source": [
    "weights_all.shape, weights_all[50, idx_1, idx_2]"
   ]
  },
  {
   "cell_type": "code",
   "execution_count": 138,
   "id": "8c05d71f-89c5-4e71-8e07-1dfb3281364d",
   "metadata": {},
   "outputs": [
    {
     "name": "stdout",
     "output_type": "stream",
     "text": [
      "Correponding shapes of the two matrices : distance matrix = (150, 23, 23) and weights = (150, 23, 23)\n"
     ]
    }
   ],
   "source": [
    "# Now multiply the 2 3D matrices in order to get a distance from our patient to all patient on those 2 labels : \n",
    "print('Correponding shapes of the two matrices : distance matrix =', dist_matrix.shape, \n",
    "      'and weights =', weights_all.shape)\n",
    "\n",
    "# we want to obtain a 150*1 array at the end"
   ]
  },
  {
   "cell_type": "code",
   "execution_count": 139,
   "id": "adb74620-0768-45f9-b165-3e2fe4ff6ce0",
   "metadata": {},
   "outputs": [],
   "source": [
    "# Element wise computation \n",
    "result = np.multiply(dist_matrix, weights_all)"
   ]
  },
  {
   "cell_type": "code",
   "execution_count": 140,
   "id": "c8c63577-152b-457d-a7e3-490390068987",
   "metadata": {},
   "outputs": [
    {
     "data": {
      "text/plain": [
       "((150, 23, 23), 0.9162385383060004)"
      ]
     },
     "execution_count": 140,
     "metadata": {},
     "output_type": "execute_result"
    }
   ],
   "source": [
    "result.shape, np.nanmax(result)"
   ]
  },
  {
   "cell_type": "code",
   "execution_count": 141,
   "id": "33316d38-6e62-4b79-913c-edae2f0b19d9",
   "metadata": {},
   "outputs": [],
   "source": [
    "result_no_nan = np.nan_to_num(result, copy=True, nan=0, posinf=None, neginf=None)"
   ]
  },
  {
   "cell_type": "code",
   "execution_count": 142,
   "id": "c3a3d51f-348a-4909-91e3-b955fdb38172",
   "metadata": {},
   "outputs": [
    {
     "data": {
      "text/plain": [
       "(150, 23)"
      ]
     },
     "execution_count": 142,
     "metadata": {},
     "output_type": "execute_result"
    }
   ],
   "source": [
    "reduce_result = np.sum(result_no_nan, axis = 2)\n",
    "reduce_result.shape"
   ]
  },
  {
   "cell_type": "code",
   "execution_count": 143,
   "id": "1db086d6-cf4a-4296-a081-7537d8917e52",
   "metadata": {},
   "outputs": [
    {
     "data": {
      "text/plain": [
       "(150,)"
      ]
     },
     "execution_count": 143,
     "metadata": {},
     "output_type": "execute_result"
    }
   ],
   "source": [
    "reduce_result_2 = np.sum(reduce_result, axis = 1)\n",
    "reduce_result_2.shape"
   ]
  },
  {
   "cell_type": "code",
   "execution_count": 144,
   "id": "37c9c295-764c-4ff5-ad20-2210d965970b",
   "metadata": {},
   "outputs": [
    {
     "name": "stdout",
     "output_type": "stream",
     "text": [
      "CRH_lupus_sample_23.ann\n"
     ]
    }
   ],
   "source": [
    "for file, index in files_index.items():\n",
    "    if index == np.argmin(reduce_result_2):\n",
    "        print(file)"
   ]
  },
  {
   "cell_type": "code",
   "execution_count": 145,
   "id": "49820404-8744-4b4f-b88a-15cb203d342f",
   "metadata": {},
   "outputs": [],
   "source": [
    "# convert the np array to a dict in order to sort values and get the closest files\n",
    "d = dict(enumerate(reduce_result_2.flatten(), 1))"
   ]
  },
  {
   "cell_type": "code",
   "execution_count": 146,
   "id": "0233e59f-aad9-4f33-8b6c-10e7f0081eee",
   "metadata": {},
   "outputs": [],
   "source": [
    "# convert the number with file names :\n",
    "file_dist_dict = {}\n",
    "for k, v in d.items():\n",
    "    file_dist_dict[index_files[k]] = v\n",
    "\n",
    "#file_dist_dict"
   ]
  },
  {
   "cell_type": "code",
   "execution_count": 147,
   "id": "92210728-5802-480d-97d2-721d99d8dc8f",
   "metadata": {
    "tags": []
   },
   "outputs": [],
   "source": [
    "# rename the files to check if osteoporosis are the first one\n",
    "# act_class = 'osteoporose'\n",
    "# act_class = 'nephro_lupus'\n",
    "act_class = 'PINS_Sclerodermie'\n",
    "\n",
    "# Load the corresponding class of the files \n",
    "class_df = pd.read_csv(file_CLASS_path)\n",
    "    \n",
    "file_class_dict = {}\n",
    "\n",
    "for k,v in file_dist_dict.items(): \n",
    "    if k in class_df['source'].tolist():\n",
    "        if act_class in class_df[class_df['source'] == k].label.tolist():\n",
    "            file_class_dict[(act_class[0:5]+'_'+k)] = v\n",
    "        else :\n",
    "            file_class_dict[k] = v"
   ]
  },
  {
   "cell_type": "code",
   "execution_count": 148,
   "id": "d767ce26-cedb-4dc3-a35e-56284009dea2",
   "metadata": {},
   "outputs": [
    {
     "data": {
      "text/plain": [
       "'CRH_scl_sample_46.ann'"
      ]
     },
     "execution_count": 148,
     "metadata": {},
     "output_type": "execute_result"
    }
   ],
   "source": [
    "# class_df.sample(10)\n",
    "\n",
    "file_index"
   ]
  },
  {
   "cell_type": "code",
   "execution_count": 149,
   "id": "5dd556d5-48cd-4e95-8ec6-80dd1192c42a",
   "metadata": {
    "tags": []
   },
   "outputs": [
    {
     "data": {
      "text/plain": [
       "{'PINS__CRH_scl_sample_47.ann': 1.2369788912040007,\n",
       " 'PINS__CRH_scl_sample_26.ann': 1.3249479008505007,\n",
       " 'CRH_scl_sample_52.ann': 1.4253454251615008,\n",
       " 'PINS__CRH_scl_sample_44.ann': 1.4654074442395009,\n",
       " 'PINS__CRH_scl_sample_9.ann': 1.5581567693205005,\n",
       " 'PINS__CRH_scl_sample_20.ann': 1.6137180796715007,\n",
       " 'PINS__CRH_scl_sample_37.ann': 1.6210630802075012,\n",
       " 'PINS__CRH_scl_sample_5.ann': 1.6763391310650007,\n",
       " 'PINS__CRH_scl_sample_6.ann': 1.6884360980770006,\n",
       " 'PINS__CRH_scl_sample_45.ann': 1.6902605706335012,\n",
       " 'PINS__CRH_scl_sample_27.ann': 1.6938177010000006,\n",
       " 'PINS__CRH_scl_sample_14.ann': 1.7066654958505005,\n",
       " 'PINS__CRH_scl_sample_10.ann': 1.719246261970501,\n",
       " 'PINS__CRH_scl_sample_38.ann': 1.741313020669001,\n",
       " 'CRH_lupus_sample_20.ann': 1.799654607146001,\n",
       " 'CRH_scl_sample_48.ann': 1.837390735360001,\n",
       " 'PINS__CRH_scl_sample_19.ann': 1.8447255088055008,\n",
       " 'CRH_scl_sample_24.ann': 1.845861473932501,\n",
       " 'CRH_scl_sample_17.ann': 1.8499118870210007,\n",
       " 'PINS__CRH_scl_sample_30.ann': 1.8565056188170008,\n",
       " 'CRH_scl_sample_36.ann': 1.8567579347720007,\n",
       " 'CRH_sapl_sample_16.ann': 1.8604552533420007,\n",
       " 'CRH_scl_sample_7.ann': 1.8683787854000007,\n",
       " 'CRH_lupus_sample_28.ann': 1.8809362632830007,\n",
       " 'CRH_scl_sample_11.ann': 1.8855617195675012,\n",
       " 'CRH_lupus_sample_14.ann': 1.888253059210501,\n",
       " 'CRH_sapl_sample_49.ann': 1.891138604616501,\n",
       " 'CRH_lupus_sample_31.ann': 1.899789025930001,\n",
       " 'CRH_sapl_sample_5.ann': 1.9106500349580013,\n",
       " 'CRH_sapl_sample_23.ann': 1.9120973097495007,\n",
       " 'PINS__CRH_scl_sample_51.ann': 1.9138510818780008,\n",
       " 'CRH_sapl_sample_38.ann': 1.9525704309515008,\n",
       " 'CRH_sapl_sample_20.ann': 1.9528913582340008,\n",
       " 'CRH_lupus_sample_29.ann': 1.957843319892001,\n",
       " 'CRH_sapl_sample_9.ann': 1.9779187855310005,\n",
       " 'CRH_sapl_sample_6.ann': 1.9793668195655008,\n",
       " 'CRH_sapl_sample_52.ann': 2.000435291798501,\n",
       " 'CRH_sapl_sample_45.ann': 2.0057840657020014,\n",
       " 'CRH_scl_sample_16.ann': 2.0088867012255007,\n",
       " 'CRH_lupus_sample_44.ann': 2.013086376171501,\n",
       " 'CRH_taka_sample_27.ann': 2.0238200019985007,\n",
       " 'CRH_lupus_sample_35.ann': 2.0367622448020004,\n",
       " 'CRH_sapl_sample_32.ann': 2.0425091861430005,\n",
       " 'CRH_lupus_sample_42.ann': 2.054312378334001,\n",
       " 'CRH_scl_sample_3.ann': 2.069941468952501,\n",
       " 'CRH_scl_sample_39.ann': 2.073779501194501,\n",
       " 'CRH_lupus_sample_9.ann': 2.0858144025005005,\n",
       " 'CRH_lupus_sample_7.ann': 2.1051296433685005,\n",
       " 'CRH_sapl_sample_3.ann': 2.1126766328560005,\n",
       " 'CRH_lupus_sample_8.ann': 2.1147039715380007,\n",
       " 'CRH_sapl_sample_19.ann': 2.129718468148001,\n",
       " 'CRH_sapl_sample_1.ann': 2.131682558820001,\n",
       " 'CRH_sapl_sample_36.ann': 2.1524760782285006,\n",
       " 'CRH_lupus_sample_16.ann': 2.1605064238540006,\n",
       " 'CRH_sapl_sample_25.ann': 2.162264888677001,\n",
       " 'CRH_scl_sample_29.ann': 2.163846901048001,\n",
       " 'CRH_lupus_sample_19.ann': 2.1665927561770006,\n",
       " 'CRH_scl_sample_8.ann': 2.169823527174001,\n",
       " 'CRH_sapl_sample_4.ann': 2.170870470695001,\n",
       " 'CRH_lupus_sample_1.ann': 2.174756391322501,\n",
       " 'CRH_lupus_sample_30.ann': 2.180792561683501,\n",
       " 'CRH_taka_sample_10.ann': 2.1918215581070006,\n",
       " 'CRH_lupus_sample_22.ann': 2.1982043702955005,\n",
       " 'CRH_sapl_sample_28.ann': 2.214285957907501,\n",
       " 'CRH_sapl_sample_39.ann': 2.2275746923015007,\n",
       " 'CRH_lupus_sample_27.ann': 2.229158642075001,\n",
       " 'CRH_sapl_sample_21.ann': 2.234857538224001,\n",
       " 'CRH_taka_sample_23.ann': 2.2410957806005007,\n",
       " 'CRH_sapl_sample_26.ann': 2.245520911797001,\n",
       " 'CRH_lupus_sample_18.ann': 2.2571201621220007,\n",
       " 'CRH_taka_sample_21.ann': 2.261340616528001,\n",
       " 'CRH_sapl_sample_11.ann': 2.2708372916325006,\n",
       " 'CRH_lupus_sample_15_copy.ann': 2.2807944451470004,\n",
       " 'CRH_lupus_sample_4.ann': 2.285645069382501,\n",
       " 'CRH_taka_sample_36.ann': 2.290288572852501,\n",
       " 'CRH_taka_sample_38.ann': 2.2945145269025007,\n",
       " 'CRH_taka_sample_40.ann': 2.3001477881835006,\n",
       " 'CRH_sapl_sample_27.ann': 2.316012501133001,\n",
       " 'CRH_scl_sample_12.ann': 2.323153124551501,\n",
       " 'CRH_taka_sample_22.ann': 2.323546642669001,\n",
       " 'CRH_taka_sample_6.ann': 2.3307110052380007,\n",
       " 'CRH_sapl_sample_18.ann': 2.345981432727001,\n",
       " 'CRH_taka_sample_19.ann': 2.3499612882335006,\n",
       " 'CRH_taka_sample_47.ann': 2.3603247357895007,\n",
       " 'CRH_taka_sample_48.ann': 2.361730238323501,\n",
       " 'CRH_sapl_sample_40.ann': 2.3632540607875008,\n",
       " 'CRH_taka_sample_29.ann': 2.3633158940515004,\n",
       " 'CRH_taka_sample_34.ann': 2.367951856779001,\n",
       " 'CRH_taka_sample_28.ann': 2.3688012620960004,\n",
       " 'CRH_sapl_sample_51.ann': 2.396547014917501,\n",
       " 'CRH_sapl_sample_10.ann': 2.405794800132501,\n",
       " 'CRH_scl_sample_40.ann': 2.409463291343001,\n",
       " 'CRH_taka_sample_31.ann': 2.4915471677615004,\n",
       " 'CRH_taka_sample_8.ann': 2.504077105939001,\n",
       " 'CRH_lupus_sample_10.ann': 2.507705137359501,\n",
       " 'CRH_taka_sample_37.ann': 2.599759031251001}"
      ]
     },
     "execution_count": 149,
     "metadata": {},
     "output_type": "execute_result"
    }
   ],
   "source": [
    "{k: v for k, v in sorted(file_class_dict.items(), key=lambda item: item[1]) if v > 1}"
   ]
  }
 ],
 "metadata": {
  "kernelspec": {
   "display_name": "Expe_Pheno",
   "language": "python",
   "name": "expe_pheno"
  },
  "language_info": {
   "codemirror_mode": {
    "name": "ipython",
    "version": 3
   },
   "file_extension": ".py",
   "mimetype": "text/x-python",
   "name": "python",
   "nbconvert_exporter": "python",
   "pygments_lexer": "ipython3",
   "version": "3.7.9"
  }
 },
 "nbformat": 4,
 "nbformat_minor": 5
}
