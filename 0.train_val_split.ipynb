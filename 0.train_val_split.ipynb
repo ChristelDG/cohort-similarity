{
 "cells": [
  {
   "cell_type": "markdown",
   "metadata": {},
   "source": [
    "## Code to split training set into two sets : training and validation clinical notes datasets\n",
    "NB one patient with two or more different clinical notes should not appear in both groups"
   ]
  },
  {
   "cell_type": "code",
   "execution_count": 1,
   "metadata": {},
   "outputs": [],
   "source": [
    "from os.path import isfile, isdir, join, basename\n",
    "from os import listdir\n",
    "import pandas as pd\n",
    "import numpy as np\n",
    "import re\n",
    "# import matplotlib.pyplot as plt\n",
    "import collections\n",
    "import math\n",
    "# from sklearn import metrics\n",
    "import random\n",
    "import shutil \n",
    "\n",
    "IN_TXT_DIR = '/export/home/cse200093/Expe_Pheno/data/expe_pheno_back_up_26_11'\n",
    "\n",
    "assert isdir(IN_TXT_DIR)\n"
   ]
  },
  {
   "cell_type": "code",
   "execution_count": 2,
   "metadata": {},
   "outputs": [
    {
     "name": "stdout",
     "output_type": "stream",
     "text": [
      "number of CRH 151\n",
      "Unique Patient 126\n"
     ]
    }
   ],
   "source": [
    "# Read all text files in the dir and split two random datasets : train and val\n",
    "\n",
    "# extract all ann_files from IN_BRAT_DIR\n",
    "txt_files = [f for f in listdir(IN_TXT_DIR) if isfile(join(IN_TXT_DIR, f)) if f.endswith('.txt')]\n",
    "\n",
    "Ident = {}\n",
    "\n",
    "for txt_file in txt_files:\n",
    "    txt_path = join(IN_TXT_DIR, txt_file)\n",
    "    \n",
    "    # Read ann file\n",
    "    with open(txt_path, 'r', encoding='utf-8') as f_in:\n",
    "        lines = f_in.readlines()\n",
    "        #print(\"\\n\\n text_path\", txt_file[:-4])\n",
    "        #print(lines[0])\n",
    "        # keep track of the patient's NIP\n",
    "        Ident[txt_file[:-4]]=lines[0]\n",
    "        \n",
    "\n",
    "# convert the dictionnary to a Pandas dataframe        \n",
    "txt_df = pd.DataFrame(list(Ident.items()), columns = ['File', 'Id_Patient'])\n",
    "\n",
    "# Count number of total clinical notes of the file\n",
    "print(\"number of CRH\", len(txt_df))\n",
    "\n",
    "# count number of unique patients\n",
    "print(\"Unique Patient\", len(txt_df[\"Id_Patient\"].unique()))\n"
   ]
  },
  {
   "cell_type": "code",
   "execution_count": 10,
   "metadata": {},
   "outputs": [
    {
     "data": {
      "text/html": [
       "<div>\n",
       "<style scoped>\n",
       "    .dataframe tbody tr th:only-of-type {\n",
       "        vertical-align: middle;\n",
       "    }\n",
       "\n",
       "    .dataframe tbody tr th {\n",
       "        vertical-align: top;\n",
       "    }\n",
       "\n",
       "    .dataframe thead th {\n",
       "        text-align: right;\n",
       "    }\n",
       "</style>\n",
       "<table border=\"1\" class=\"dataframe\">\n",
       "  <thead>\n",
       "    <tr style=\"text-align: right;\">\n",
       "      <th></th>\n",
       "      <th>File</th>\n",
       "      <th>Id_Patient</th>\n",
       "    </tr>\n",
       "  </thead>\n",
       "  <tbody>\n",
       "    <tr>\n",
       "      <th>76</th>\n",
       "      <td>CRH_scl_sample_12</td>\n",
       "      <td>-7630614914824983828\\n</td>\n",
       "    </tr>\n",
       "    <tr>\n",
       "      <th>0</th>\n",
       "      <td>CRH_lupus_sample_26</td>\n",
       "      <td>-5471642527098896913\\n</td>\n",
       "    </tr>\n",
       "    <tr>\n",
       "      <th>34</th>\n",
       "      <td>CRH_lupus_sample_45</td>\n",
       "      <td>8372841323942329808\\n</td>\n",
       "    </tr>\n",
       "    <tr>\n",
       "      <th>139</th>\n",
       "      <td>CRH_taka_sample_28</td>\n",
       "      <td>3259816440287859225\\n</td>\n",
       "    </tr>\n",
       "    <tr>\n",
       "      <th>61</th>\n",
       "      <td>CRH_taka_sample_16</td>\n",
       "      <td>-6895810451220236601\\n</td>\n",
       "    </tr>\n",
       "  </tbody>\n",
       "</table>\n",
       "</div>"
      ],
      "text/plain": [
       "                    File              Id_Patient\n",
       "76     CRH_scl_sample_12  -7630614914824983828\\n\n",
       "0    CRH_lupus_sample_26  -5471642527098896913\\n\n",
       "34   CRH_lupus_sample_45   8372841323942329808\\n\n",
       "139   CRH_taka_sample_28   3259816440287859225\\n\n",
       "61    CRH_taka_sample_16  -6895810451220236601\\n"
      ]
     },
     "execution_count": 10,
     "metadata": {},
     "output_type": "execute_result"
    }
   ],
   "source": [
    "txt_df.sample(5)"
   ]
  },
  {
   "cell_type": "code",
   "execution_count": 3,
   "metadata": {},
   "outputs": [
    {
     "name": "stdout",
     "output_type": "stream",
     "text": [
      "Set of unique Patients : 126\n",
      "size of validation dataset = 25\n"
     ]
    }
   ],
   "source": [
    "# Get a set of all Id of patients : \n",
    "Id_unique = set(txt_df['Id_Patient'])\n",
    "# Check the size\n",
    "print(\"Set of unique Patients :\", len(Id_unique))\n",
    "\n",
    "# and get a random set of train and val : \n",
    "print('size of validation dataset =',int(17*len(txt_df)/100))\n",
    "val_patients = random.sample(Id_unique, int(17*len(txt_df)/100))"
   ]
  },
  {
   "cell_type": "code",
   "execution_count": 6,
   "metadata": {},
   "outputs": [],
   "source": [
    "with open('set_id_patient_expe_pheno.txt','w') as f:\n",
    "    f.write(str(Id_unique))"
   ]
  },
  {
   "cell_type": "code",
   "execution_count": 7,
   "metadata": {},
   "outputs": [],
   "source": [
    "import ast\n",
    "with open('set_id_patient_expe_pheno.txt','r') as f:\n",
    "    my_set = ast.literal_eval(f.read())"
   ]
  },
  {
   "cell_type": "code",
   "execution_count": 9,
   "metadata": {},
   "outputs": [
    {
     "data": {
      "text/plain": [
       "True"
      ]
     },
     "execution_count": 9,
     "metadata": {},
     "output_type": "execute_result"
    }
   ],
   "source": [
    "Id_unique == my_set"
   ]
  },
  {
   "cell_type": "code",
   "execution_count": 4,
   "metadata": {},
   "outputs": [
    {
     "data": {
      "text/plain": [
       "(28, 28)"
      ]
     },
     "execution_count": 4,
     "metadata": {},
     "output_type": "execute_result"
    }
   ],
   "source": [
    "# check if it leds to the right number of CRH : \n",
    "\n",
    "# get the corresponding files names\n",
    "list_Val = []\n",
    "for key, value in Ident.items():\n",
    "    if value in val_patients:\n",
    "        # print('validation patient', value)\n",
    "        list_Val.append(key)\n",
    "\n",
    "\n",
    "list_Val_2 = [key for key,value in Ident.items() if value in val_patients]\n",
    "\n",
    "len(list_Val), len(list_Val_2)"
   ]
  },
  {
   "cell_type": "code",
   "execution_count": 5,
   "metadata": {},
   "outputs": [
    {
     "data": {
      "text/plain": [
       "['CRH_taka_sample_10',\n",
       " 'CRH_scl_sample_9',\n",
       " 'CRH_lupus_sample_14',\n",
       " 'CRH_sapl_sample_51',\n",
       " 'CRH_sapl_sample_23',\n",
       " 'CRH_sapl_sample_11',\n",
       " 'CRH_sapl_sample_3',\n",
       " 'CRH_scl_sample_8',\n",
       " 'CRH_sapl_sample_34',\n",
       " 'CRH_lupus_sample_52',\n",
       " 'CRH_scl_sample_36',\n",
       " 'CRH_lupus_sample_38',\n",
       " 'CRH_lupus_sample_44',\n",
       " 'CRH_sapl_sample_50',\n",
       " 'CRH_taka_sample_32',\n",
       " 'CRH_scl_sample_16',\n",
       " 'CRH_sapl_sample_28',\n",
       " 'CRH_taka_sample_36',\n",
       " 'CRH_taka_sample_27',\n",
       " 'CRH_sapl_sample_45',\n",
       " 'CRH_lupus_sample_5',\n",
       " 'CRH_scl_sample_17',\n",
       " 'CRH_taka_sample_42',\n",
       " 'CRH_scl_sample_50',\n",
       " 'CRH_taka_sample_13',\n",
       " 'CRH_lupus_sample_22',\n",
       " 'CRH_lupus_sample_4',\n",
       " 'CRH_lupus_sample_10']"
      ]
     },
     "execution_count": 5,
     "metadata": {},
     "output_type": "execute_result"
    }
   ],
   "source": [
    "list_Val"
   ]
  },
  {
   "cell_type": "code",
   "execution_count": 6,
   "metadata": {},
   "outputs": [
    {
     "data": {
      "text/plain": [
       "'/export/home/cse200093/Expe_Pheno/data/expe_pheno_back_up_26_11/CRH_lupus_sample_10.txt'"
      ]
     },
     "execution_count": 6,
     "metadata": {},
     "output_type": "execute_result"
    }
   ],
   "source": [
    "# copy the corresponding validation files in the val directory\n",
    "import shutil \n",
    "for i in list_Val: \n",
    "    # copy txt files\n",
    "    source_file = f'/export/home/cse200093/Expe_Pheno/data/expe_pheno_back_up_26_11/{i}.txt'\n",
    "    des_file = f'/export/home/cse200093/Expe_Pheno/data/final_val/{i}.txt'\n",
    "    shutil.copyfile(source_file,des_file)\n",
    "    # and they respective .ann files \n",
    "    source_ann_file = f'/export/home/cse200093/Expe_Pheno/data/expe_pheno_back_up_26_11/{i}.ann'\n",
    "    des_ann_file = f'/export/home/cse200093/Expe_Pheno/data/final_val/{i}.ann'\n",
    "    shutil.copyfile(source_ann_file,des_ann_file)\n",
    "    \n",
    "source_file"
   ]
  },
  {
   "cell_type": "code",
   "execution_count": 7,
   "metadata": {},
   "outputs": [
    {
     "data": {
      "text/plain": [
       "123"
      ]
     },
     "execution_count": 7,
     "metadata": {},
     "output_type": "execute_result"
    }
   ],
   "source": [
    "# Training files : \n",
    "list_Train = [key for key,value in Ident.items() if value not in val_patients]\n",
    "len(list_Train)"
   ]
  },
  {
   "cell_type": "code",
   "execution_count": 8,
   "metadata": {},
   "outputs": [
    {
     "data": {
      "text/plain": [
       "'/export/home/cse200093/Expe_Pheno/data/expe_pheno_back_up_26_11/CRH_scl_sample_4.txt'"
      ]
     },
     "execution_count": 8,
     "metadata": {},
     "output_type": "execute_result"
    }
   ],
   "source": [
    "# copy the corresponding training files in the train directory\n",
    "\n",
    "for i in list_Train : \n",
    "    # copy txt files\n",
    "    source_file = f'/export/home/cse200093/Expe_Pheno/data/expe_pheno_back_up_26_11/{i}.txt'\n",
    "    des_file = f'/export/home/cse200093/Expe_Pheno/data/final_train/{i}.txt'\n",
    "    shutil.copyfile(source_file,des_file)\n",
    "    # and they respective .ann files \n",
    "    source_ann_file = f'/export/home/cse200093/Expe_Pheno/data/expe_pheno_back_up_26_11/{i}.ann'\n",
    "    des_ann_file = f'/export/home/cse200093/Expe_Pheno/data/final_train/{i}.ann'\n",
    "    shutil.copyfile(source_ann_file,des_ann_file)\n",
    "    \n",
    "source_file"
   ]
  },
  {
   "cell_type": "code",
   "execution_count": 10,
   "metadata": {},
   "outputs": [
    {
     "data": {
      "text/html": [
       "<div>\n",
       "<style scoped>\n",
       "    .dataframe tbody tr th:only-of-type {\n",
       "        vertical-align: middle;\n",
       "    }\n",
       "\n",
       "    .dataframe tbody tr th {\n",
       "        vertical-align: top;\n",
       "    }\n",
       "\n",
       "    .dataframe thead th {\n",
       "        text-align: right;\n",
       "    }\n",
       "</style>\n",
       "<table border=\"1\" class=\"dataframe\">\n",
       "  <thead>\n",
       "    <tr style=\"text-align: right;\">\n",
       "      <th></th>\n",
       "      <th>File</th>\n",
       "      <th>Id_Patient</th>\n",
       "    </tr>\n",
       "  </thead>\n",
       "  <tbody>\n",
       "    <tr>\n",
       "      <th>0</th>\n",
       "      <td>CRH_lupus_sample_26</td>\n",
       "      <td>-5471642527098896913\\n</td>\n",
       "    </tr>\n",
       "    <tr>\n",
       "      <th>1</th>\n",
       "      <td>CRH_taka_sample_1</td>\n",
       "      <td>5830359601606805541\\n</td>\n",
       "    </tr>\n",
       "    <tr>\n",
       "      <th>2</th>\n",
       "      <td>CRH_scl_sample_30</td>\n",
       "      <td>1772960206674624992\\n</td>\n",
       "    </tr>\n",
       "    <tr>\n",
       "      <th>3</th>\n",
       "      <td>CRH_lupus_sample_9</td>\n",
       "      <td>-7211275103686507133\\n</td>\n",
       "    </tr>\n",
       "    <tr>\n",
       "      <th>4</th>\n",
       "      <td>CRH_taka_sample_6</td>\n",
       "      <td>-2210350684834633868\\n</td>\n",
       "    </tr>\n",
       "  </tbody>\n",
       "</table>\n",
       "</div>"
      ],
      "text/plain": [
       "                  File              Id_Patient\n",
       "0  CRH_lupus_sample_26  -5471642527098896913\\n\n",
       "1    CRH_taka_sample_1   5830359601606805541\\n\n",
       "2    CRH_scl_sample_30   1772960206674624992\\n\n",
       "3   CRH_lupus_sample_9  -7211275103686507133\\n\n",
       "4    CRH_taka_sample_6  -2210350684834633868\\n"
      ]
     },
     "execution_count": 10,
     "metadata": {},
     "output_type": "execute_result"
    }
   ],
   "source": [
    "txt_df.head()"
   ]
  },
  {
   "cell_type": "code",
   "execution_count": 15,
   "metadata": {},
   "outputs": [
    {
     "name": "stdout",
     "output_type": "stream",
     "text": [
      "Unique Takayasu Patient 26\n",
      "Unique Lupus Patient 38\n",
      "Unique scl Patient 32\n",
      "Unique SAPL Patient 31\n"
     ]
    }
   ],
   "source": [
    "# compute thenumber of patients for each disease\n",
    "taka_df = txt_df[txt_df['File'].str.contains('taka')]\n",
    "# count number of unique patients\n",
    "print(\"Unique Takayasu Patient\", len(taka_df[\"Id_Patient\"].unique()))\n",
    "\n",
    "\n",
    "lupus_df = txt_df[txt_df['File'].str.contains('lupus')]\n",
    "# count number of unique patients\n",
    "print(\"Unique Lupus Patient\", len(lupus_df[\"Id_Patient\"].unique()))\n",
    "\n",
    "\n",
    "scl_df = txt_df[txt_df['File'].str.contains('scl')]\n",
    "# count number of unique patients\n",
    "print(\"Unique scl Patient\", len(scl_df[\"Id_Patient\"].unique()))\n",
    "\n",
    "sapl_df = txt_df[txt_df['File'].str.contains('sapl')]\n",
    "# count number of unique patients\n",
    "print(\"Unique SAPL Patient\", len(sapl_df[\"Id_Patient\"].unique()))"
   ]
  },
  {
   "cell_type": "code",
   "execution_count": 14,
   "metadata": {},
   "outputs": [
    {
     "data": {
      "text/html": [
       "<div>\n",
       "<style scoped>\n",
       "    .dataframe tbody tr th:only-of-type {\n",
       "        vertical-align: middle;\n",
       "    }\n",
       "\n",
       "    .dataframe tbody tr th {\n",
       "        vertical-align: top;\n",
       "    }\n",
       "\n",
       "    .dataframe thead th {\n",
       "        text-align: right;\n",
       "    }\n",
       "</style>\n",
       "<table border=\"1\" class=\"dataframe\">\n",
       "  <thead>\n",
       "    <tr style=\"text-align: right;\">\n",
       "      <th></th>\n",
       "      <th>File</th>\n",
       "      <th>Id_Patient</th>\n",
       "    </tr>\n",
       "  </thead>\n",
       "  <tbody>\n",
       "    <tr>\n",
       "      <th>1</th>\n",
       "      <td>CRH_taka_sample_1</td>\n",
       "      <td>5830359601606805541\\n</td>\n",
       "    </tr>\n",
       "    <tr>\n",
       "      <th>4</th>\n",
       "      <td>CRH_taka_sample_6</td>\n",
       "      <td>-2210350684834633868\\n</td>\n",
       "    </tr>\n",
       "    <tr>\n",
       "      <th>5</th>\n",
       "      <td>CRH_taka_sample_10</td>\n",
       "      <td>-7081861870251767961\\n</td>\n",
       "    </tr>\n",
       "    <tr>\n",
       "      <th>8</th>\n",
       "      <td>CRH_taka_sample_8</td>\n",
       "      <td>6298534508639260711\\n</td>\n",
       "    </tr>\n",
       "    <tr>\n",
       "      <th>14</th>\n",
       "      <td>CRH_taka_sample_19</td>\n",
       "      <td>6818600308001495885\\n</td>\n",
       "    </tr>\n",
       "    <tr>\n",
       "      <th>24</th>\n",
       "      <td>CRH_taka_sample_22</td>\n",
       "      <td>-2210350684834633868\\n</td>\n",
       "    </tr>\n",
       "    <tr>\n",
       "      <th>26</th>\n",
       "      <td>CRH_taka_sample_34</td>\n",
       "      <td>3259816440287859225\\n</td>\n",
       "    </tr>\n",
       "    <tr>\n",
       "      <th>27</th>\n",
       "      <td>CRH_taka_sample_48</td>\n",
       "      <td>7877605414792008647\\n</td>\n",
       "    </tr>\n",
       "    <tr>\n",
       "      <th>30</th>\n",
       "      <td>CRH_taka_sample_46</td>\n",
       "      <td>-3932956242127342648\\n</td>\n",
       "    </tr>\n",
       "    <tr>\n",
       "      <th>42</th>\n",
       "      <td>CRH_taka_sample_23</td>\n",
       "      <td>703906453031200049\\n</td>\n",
       "    </tr>\n",
       "    <tr>\n",
       "      <th>48</th>\n",
       "      <td>CRH_taka_sample_51</td>\n",
       "      <td>-2210350684834633868\\n</td>\n",
       "    </tr>\n",
       "    <tr>\n",
       "      <th>56</th>\n",
       "      <td>CRH_taka_sample_7</td>\n",
       "      <td>5346006613921912191\\n</td>\n",
       "    </tr>\n",
       "    <tr>\n",
       "      <th>60</th>\n",
       "      <td>CRH_taka_sample_0</td>\n",
       "      <td>5830359601606805541\\n</td>\n",
       "    </tr>\n",
       "    <tr>\n",
       "      <th>61</th>\n",
       "      <td>CRH_taka_sample_16</td>\n",
       "      <td>-6895810451220236601\\n</td>\n",
       "    </tr>\n",
       "    <tr>\n",
       "      <th>73</th>\n",
       "      <td>CRH_taka_sample_40</td>\n",
       "      <td>703906453031200049\\n</td>\n",
       "    </tr>\n",
       "    <tr>\n",
       "      <th>75</th>\n",
       "      <td>CRH_taka_sample_47</td>\n",
       "      <td>-1194981989689392407\\n</td>\n",
       "    </tr>\n",
       "    <tr>\n",
       "      <th>77</th>\n",
       "      <td>CRH_taka_sample_35</td>\n",
       "      <td>2255710299413981177\\n</td>\n",
       "    </tr>\n",
       "    <tr>\n",
       "      <th>78</th>\n",
       "      <td>CRH_taka_sample_49</td>\n",
       "      <td>3183367260525214651\\n</td>\n",
       "    </tr>\n",
       "    <tr>\n",
       "      <th>80</th>\n",
       "      <td>CRH_taka_sample_32</td>\n",
       "      <td>-8839763573886911952\\n</td>\n",
       "    </tr>\n",
       "    <tr>\n",
       "      <th>87</th>\n",
       "      <td>CRH_taka_sample_38</td>\n",
       "      <td>148178231727956564\\n</td>\n",
       "    </tr>\n",
       "    <tr>\n",
       "      <th>88</th>\n",
       "      <td>CRH_taka_sample_44</td>\n",
       "      <td>-7831088302518974707\\n</td>\n",
       "    </tr>\n",
       "    <tr>\n",
       "      <th>89</th>\n",
       "      <td>CRH_taka_sample_43</td>\n",
       "      <td>703906453031200049\\n</td>\n",
       "    </tr>\n",
       "    <tr>\n",
       "      <th>94</th>\n",
       "      <td>CRH_taka_sample_31</td>\n",
       "      <td>-6895810451220236601\\n</td>\n",
       "    </tr>\n",
       "    <tr>\n",
       "      <th>96</th>\n",
       "      <td>CRH_taka_sample_36</td>\n",
       "      <td>-3814774358450820350\\n</td>\n",
       "    </tr>\n",
       "    <tr>\n",
       "      <th>97</th>\n",
       "      <td>CRH_taka_sample_27</td>\n",
       "      <td>-7081861870251767961\\n</td>\n",
       "    </tr>\n",
       "    <tr>\n",
       "      <th>103</th>\n",
       "      <td>CRH_taka_sample_20</td>\n",
       "      <td>-2210350684834633868\\n</td>\n",
       "    </tr>\n",
       "    <tr>\n",
       "      <th>105</th>\n",
       "      <td>CRH_taka_sample_29</td>\n",
       "      <td>8978163519485748821\\n</td>\n",
       "    </tr>\n",
       "    <tr>\n",
       "      <th>114</th>\n",
       "      <td>CRH_taka_sample_3</td>\n",
       "      <td>5309428228927232901\\n</td>\n",
       "    </tr>\n",
       "    <tr>\n",
       "      <th>115</th>\n",
       "      <td>CRH_taka_sample_12</td>\n",
       "      <td>2255710299413981177\\n</td>\n",
       "    </tr>\n",
       "    <tr>\n",
       "      <th>118</th>\n",
       "      <td>CRH_taka_sample_37</td>\n",
       "      <td>-8933596210814240184\\n</td>\n",
       "    </tr>\n",
       "    <tr>\n",
       "      <th>121</th>\n",
       "      <td>CRH_taka_sample_42</td>\n",
       "      <td>2668758245828243245\\n</td>\n",
       "    </tr>\n",
       "    <tr>\n",
       "      <th>125</th>\n",
       "      <td>CRH_taka_sample_39</td>\n",
       "      <td>2255710299413981177\\n</td>\n",
       "    </tr>\n",
       "    <tr>\n",
       "      <th>126</th>\n",
       "      <td>CRH_taka_sample_45</td>\n",
       "      <td>3259816440287859225\\n</td>\n",
       "    </tr>\n",
       "    <tr>\n",
       "      <th>130</th>\n",
       "      <td>CRH_taka_sample_5</td>\n",
       "      <td>1551446460163711667\\n</td>\n",
       "    </tr>\n",
       "    <tr>\n",
       "      <th>131</th>\n",
       "      <td>CRH_taka_sample_13</td>\n",
       "      <td>2359526914557064416\\n</td>\n",
       "    </tr>\n",
       "    <tr>\n",
       "      <th>135</th>\n",
       "      <td>CRH_taka_sample_2</td>\n",
       "      <td>-8013043277388659378\\n</td>\n",
       "    </tr>\n",
       "    <tr>\n",
       "      <th>139</th>\n",
       "      <td>CRH_taka_sample_28</td>\n",
       "      <td>3259816440287859225\\n</td>\n",
       "    </tr>\n",
       "    <tr>\n",
       "      <th>145</th>\n",
       "      <td>CRH_taka_sample_21</td>\n",
       "      <td>-2210350684834633868\\n</td>\n",
       "    </tr>\n",
       "    <tr>\n",
       "      <th>147</th>\n",
       "      <td>CRH_taka_sample_26</td>\n",
       "      <td>2782787984461632181\\n</td>\n",
       "    </tr>\n",
       "  </tbody>\n",
       "</table>\n",
       "</div>"
      ],
      "text/plain": [
       "                   File              Id_Patient\n",
       "1     CRH_taka_sample_1   5830359601606805541\\n\n",
       "4     CRH_taka_sample_6  -2210350684834633868\\n\n",
       "5    CRH_taka_sample_10  -7081861870251767961\\n\n",
       "8     CRH_taka_sample_8   6298534508639260711\\n\n",
       "14   CRH_taka_sample_19   6818600308001495885\\n\n",
       "24   CRH_taka_sample_22  -2210350684834633868\\n\n",
       "26   CRH_taka_sample_34   3259816440287859225\\n\n",
       "27   CRH_taka_sample_48   7877605414792008647\\n\n",
       "30   CRH_taka_sample_46  -3932956242127342648\\n\n",
       "42   CRH_taka_sample_23    703906453031200049\\n\n",
       "48   CRH_taka_sample_51  -2210350684834633868\\n\n",
       "56    CRH_taka_sample_7   5346006613921912191\\n\n",
       "60    CRH_taka_sample_0   5830359601606805541\\n\n",
       "61   CRH_taka_sample_16  -6895810451220236601\\n\n",
       "73   CRH_taka_sample_40    703906453031200049\\n\n",
       "75   CRH_taka_sample_47  -1194981989689392407\\n\n",
       "77   CRH_taka_sample_35   2255710299413981177\\n\n",
       "78   CRH_taka_sample_49   3183367260525214651\\n\n",
       "80   CRH_taka_sample_32  -8839763573886911952\\n\n",
       "87   CRH_taka_sample_38    148178231727956564\\n\n",
       "88   CRH_taka_sample_44  -7831088302518974707\\n\n",
       "89   CRH_taka_sample_43    703906453031200049\\n\n",
       "94   CRH_taka_sample_31  -6895810451220236601\\n\n",
       "96   CRH_taka_sample_36  -3814774358450820350\\n\n",
       "97   CRH_taka_sample_27  -7081861870251767961\\n\n",
       "103  CRH_taka_sample_20  -2210350684834633868\\n\n",
       "105  CRH_taka_sample_29   8978163519485748821\\n\n",
       "114   CRH_taka_sample_3   5309428228927232901\\n\n",
       "115  CRH_taka_sample_12   2255710299413981177\\n\n",
       "118  CRH_taka_sample_37  -8933596210814240184\\n\n",
       "121  CRH_taka_sample_42   2668758245828243245\\n\n",
       "125  CRH_taka_sample_39   2255710299413981177\\n\n",
       "126  CRH_taka_sample_45   3259816440287859225\\n\n",
       "130   CRH_taka_sample_5   1551446460163711667\\n\n",
       "131  CRH_taka_sample_13   2359526914557064416\\n\n",
       "135   CRH_taka_sample_2  -8013043277388659378\\n\n",
       "139  CRH_taka_sample_28   3259816440287859225\\n\n",
       "145  CRH_taka_sample_21  -2210350684834633868\\n\n",
       "147  CRH_taka_sample_26   2782787984461632181\\n"
      ]
     },
     "execution_count": 14,
     "metadata": {},
     "output_type": "execute_result"
    }
   ],
   "source": [
    "taka_df"
   ]
  },
  {
   "cell_type": "code",
   "execution_count": null,
   "metadata": {},
   "outputs": [],
   "source": []
  }
 ],
 "metadata": {
  "kernelspec": {
   "display_name": "Python 3",
   "language": "python",
   "name": "python3"
  },
  "language_info": {
   "codemirror_mode": {
    "name": "ipython",
    "version": 3
   },
   "file_extension": ".py",
   "mimetype": "text/x-python",
   "name": "python",
   "nbconvert_exporter": "python",
   "pygments_lexer": "ipython3",
   "version": "3.7.8"
  }
 },
 "nbformat": 4,
 "nbformat_minor": 4
}
