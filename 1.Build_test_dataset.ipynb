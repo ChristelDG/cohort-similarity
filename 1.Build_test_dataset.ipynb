{
 "cells": [
  {
   "cell_type": "markdown",
   "id": "90dbce76-2bfb-4db9-970b-2bf6481d3af7",
   "metadata": {},
   "source": [
    "# Build test datasets\n",
    "\n",
    "Builds a three-column dataframes:\n",
    " - term: term from either the DEFT dataset or MEsh terminology\n",
    " - label: Mesh code C**\n",
    " - term source: \"DEFT-train\", \"DEFT-val\", \"Mesh-FR\", \"Mesh-EN\""
   ]
  },
  {
   "cell_type": "code",
   "execution_count": 2,
   "id": "e4b8d0a7-2c99-4ee7-bbbd-b1ee7dd35cf1",
   "metadata": {},
   "outputs": [],
   "source": [
    "from os.path import isfile, isdir, join\n",
    "from os import listdir\n",
    "import pandas as pd\n",
    "import numpy as np\n",
    "import re\n",
    "import matplotlib.pyplot as plt\n",
    "import collections\n",
    "import math\n",
    "\n",
    "IN_BRAT_DIR = '/export/home/cse200093/brat_data/CRH_VAL_PHENO_nlstruct'\n",
    "\n",
    "# extracted ressources of all terms before classification, with sex information\n",
    "OUT_DF = './resources/15_02_2022_CRH_VAL_PHENO_pred.csv'\n",
    "OUT_Gender = './resources/15_02_2022_CRH_VAL_PHENO_Gender.csv'\n",
    "\n",
    "assert isdir(IN_BRAT_DIR)\n"
   ]
  },
  {
   "cell_type": "code",
   "execution_count": 3,
   "id": "5850951b-c6c6-467a-abdc-9087fbe1dbfd",
   "metadata": {},
   "outputs": [],
   "source": [
    "def find_offsets_relaxed_match(label_infos, left_offset, right_offset):\n",
    "    matches = []\n",
    "    for o in label_infos.keys():\n",
    "        o_list = o.split(' ')\n",
    "        leftmost_offset = int(o_list[0])\n",
    "        rightmost_offset = int(o_list[-1])\n",
    "        if leftmost_offset <= left_offset <= rightmost_offset or leftmost_offset <= right_offset <= rightmost_offset or left_offset <= leftmost_offset <= right_offset or left_offset <= rightmost_offset <= right_offset:\n",
    "            matches.append((o, label_infos[o]))\n",
    "    return matches"
   ]
  },
  {
   "cell_type": "code",
   "execution_count": 4,
   "id": "5cbe6f27-0781-4dd9-be44-1996df3f2e4f",
   "metadata": {},
   "outputs": [
    {
     "data": {
      "text/plain": [
       "18818"
      ]
     },
     "execution_count": 4,
     "metadata": {},
     "output_type": "execute_result"
    }
   ],
   "source": [
    "ENTITY_REGEX = re.compile('^(T\\d+)\\t([^ ]+) ([^\\t]+)\\t(.*)$')\n",
    "\n",
    "tags = []\n",
    "data = []\n",
    "\n",
    "labels = [\"sosydiso\"]\n",
    "gender = ['F', 'M']\n",
    "ann_files = [f for f in listdir(IN_BRAT_DIR) if isfile(join(IN_BRAT_DIR, f)) if f.endswith('.ann')]\n",
    "\n",
    "\n",
    "for ann_file in ann_files:\n",
    "    source = ann_file\n",
    "    ann_path = join(IN_BRAT_DIR, ann_file)\n",
    "    assert isfile(ann_path)\n",
    "    # Read ann file\n",
    "    with open(ann_path, 'r', encoding='utf-8') as f_in:\n",
    "        lines = f_in.readlines()\n",
    "\n",
    "    columns = ['term', 'source']\n",
    "\n",
    "    # First pass -> extract labels sosy, pathologie, substance, examen\n",
    "    label_infos = {}\n",
    "    other_infos = {}\n",
    "    for line in lines:\n",
    "        entity_match = ENTITY_REGEX.match(line.strip())\n",
    "        if entity_match is not None:\n",
    "            ann_id = entity_match.group(1)\n",
    "            label = entity_match.group(2)\n",
    "            offsets = entity_match.group(3)\n",
    "            span = entity_match.group(4)\n",
    "            if label in labels:\n",
    "                label_list = label_infos.get(offsets, [])\n",
    "                label_list.append((ann_id, label, offsets, span))\n",
    "                label_infos[offsets] = label_list\n",
    "                data.append([span, source])\n",
    "            if label in gender:\n",
    "                data.append([label, source])\n",
    "\n",
    "\"\"\"\n",
    "        # Find other mentions with the same offsets\n",
    "        # restrict to pathology and sosy\n",
    "        for line in lines:\n",
    "            entity_match = ENTITY_REGEX.match(line.strip())\n",
    "            if entity_match is not None:\n",
    "                ann_id = entity_match.group(1)\n",
    "                label = entity_match.group(2)\n",
    "                offsets = entity_match.group(3)\n",
    "                offset_list = offsets.split(' ')\n",
    "                leftmost_offset = int(offset_list[0])\n",
    "                rightmost_offset = int(offset_list[-1])\n",
    "                span = entity_match.group(4)\n",
    "                if label not in labels:\n",
    "                    if label in ('pathologie', 'sosy','substance','examen'):\n",
    "                        res = find_offsets_relaxed_match(label_infos, leftmost_offset, rightmost_offset)\n",
    "                        if len(res):\n",
    "                            for r in res:\n",
    "                                new_offsets, mesh_tags = r\n",
    "                                for i in mesh_tags:\n",
    "                                    assert i[1] in labels\n",
    "                                    data.append([span, i[1], source])\n",
    "                                #tags.append([ann_file, ann_id, new_offsets, span, label, mesh_tags])\n",
    "                        #else:                        \n",
    "                        #    tags.append([ann_file, ann_id, offsets, span, label, None])\n",
    "\n",
    "    #    for offsets in label_infos.keys():\n",
    "    #        offset_df = [t for t in tags if t[2] == offsets]\n",
    "    #        if not len(offset_df):\n",
    "    #            offset_list = offsets.split(' ')\n",
    "    #            leftmost_offset = int(offset_list[0])\n",
    "    #            rightmost_offset = int(offset_list[-1])\n",
    "    #            span = text[leftmost_offset:rightmost_offset]\n",
    "    #            tags.append([ann_file, ann_id, offsets, span, 'null', ', '.join([i[1] for i in label_infos[offsets]])])\n",
    "    #     \n",
    "#tag_df = pd.DataFrame(data=tags, columns=['ann_file', 'ann_id', 'offsets', 'span', 'label', 'tag'])\n",
    "\"\"\"\n",
    "len(data)"
   ]
  },
  {
   "cell_type": "code",
   "execution_count": 5,
   "id": "5e7ffbdd-25fe-4ed8-b1c3-06d280aedec5",
   "metadata": {
    "tags": []
   },
   "outputs": [],
   "source": [
    "#data"
   ]
  },
  {
   "cell_type": "code",
   "execution_count": 17,
   "id": "f4cfd4b1-3f91-464b-89c7-840fc2f57bf2",
   "metadata": {
    "tags": []
   },
   "outputs": [
    {
     "data": {
      "text/html": [
       "<div>\n",
       "<style scoped>\n",
       "    .dataframe tbody tr th:only-of-type {\n",
       "        vertical-align: middle;\n",
       "    }\n",
       "\n",
       "    .dataframe tbody tr th {\n",
       "        vertical-align: top;\n",
       "    }\n",
       "\n",
       "    .dataframe thead th {\n",
       "        text-align: right;\n",
       "    }\n",
       "</style>\n",
       "<table border=\"1\" class=\"dataframe\">\n",
       "  <thead>\n",
       "    <tr style=\"text-align: right;\">\n",
       "      <th></th>\n",
       "      <th>term</th>\n",
       "      <th>source</th>\n",
       "    </tr>\n",
       "  </thead>\n",
       "  <tbody>\n",
       "    <tr>\n",
       "      <th>15991</th>\n",
       "      <td>anévrysme de l’artère fémorale commune</td>\n",
       "      <td>CRH_val_sample_239.ann</td>\n",
       "    </tr>\n",
       "    <tr>\n",
       "      <th>9021</th>\n",
       "      <td>Dyskinésies</td>\n",
       "      <td>CRH_val_sample_380.ann</td>\n",
       "    </tr>\n",
       "    <tr>\n",
       "      <th>11998</th>\n",
       "      <td>limitation de l'ouverture buccale</td>\n",
       "      <td>CRH_val_sample_179.ann</td>\n",
       "    </tr>\n",
       "    <tr>\n",
       "      <th>13854</th>\n",
       "      <td>CAPS</td>\n",
       "      <td>CRH_val_sample_382.ann</td>\n",
       "    </tr>\n",
       "    <tr>\n",
       "      <th>7104</th>\n",
       "      <td>RCF pathologique</td>\n",
       "      <td>CRH_val_sample_364.ann</td>\n",
       "    </tr>\n",
       "    <tr>\n",
       "      <th>7530</th>\n",
       "      <td>F</td>\n",
       "      <td>NEW_CRH_val_sample_9.ann</td>\n",
       "    </tr>\n",
       "    <tr>\n",
       "      <th>16449</th>\n",
       "      <td>glomérulonéphrite de classe I</td>\n",
       "      <td>NEW_CRH_val_sample_61.ann</td>\n",
       "    </tr>\n",
       "    <tr>\n",
       "      <th>13432</th>\n",
       "      <td>Syndrome de Raynaud</td>\n",
       "      <td>CRH_val_sample_193.ann</td>\n",
       "    </tr>\n",
       "    <tr>\n",
       "      <th>8199</th>\n",
       "      <td>Vessie faiblement remplie</td>\n",
       "      <td>NEW_CRH_val_sample_35.ann</td>\n",
       "    </tr>\n",
       "    <tr>\n",
       "      <th>3207</th>\n",
       "      <td>densité liquidienne et non hématique</td>\n",
       "      <td>CRH_val_sample_357.ann</td>\n",
       "    </tr>\n",
       "    <tr>\n",
       "      <th>17591</th>\n",
       "      <td>Régulièrement des douleurs articulaires</td>\n",
       "      <td>CRH_val_sample_42.ann</td>\n",
       "    </tr>\n",
       "    <tr>\n",
       "      <th>5518</th>\n",
       "      <td>DM anti-MDA5</td>\n",
       "      <td>CRH_val_sample_98.ann</td>\n",
       "    </tr>\n",
       "    <tr>\n",
       "      <th>13807</th>\n",
       "      <td>LES</td>\n",
       "      <td>NEW_CRH_val_sample_42.ann</td>\n",
       "    </tr>\n",
       "    <tr>\n",
       "      <th>11235</th>\n",
       "      <td>cytopénie</td>\n",
       "      <td>NEW_CRH_val_sample_52.ann</td>\n",
       "    </tr>\n",
       "    <tr>\n",
       "      <th>6991</th>\n",
       "      <td>lombalgies</td>\n",
       "      <td>CRH_val_sample_375.ann</td>\n",
       "    </tr>\n",
       "    <tr>\n",
       "      <th>14675</th>\n",
       "      <td>Atteinte thrombotique veineuse diffuse</td>\n",
       "      <td>CRH_val_sample_54.ann</td>\n",
       "    </tr>\n",
       "    <tr>\n",
       "      <th>7036</th>\n",
       "      <td>Phénomène de Raynaud</td>\n",
       "      <td>NEW_CRH_val_sample_72.ann</td>\n",
       "    </tr>\n",
       "    <tr>\n",
       "      <th>15953</th>\n",
       "      <td>Raynaud</td>\n",
       "      <td>CRH_val_sample_13.ann</td>\n",
       "    </tr>\n",
       "    <tr>\n",
       "      <th>8999</th>\n",
       "      <td>crose</td>\n",
       "      <td>CRH_val_sample_380.ann</td>\n",
       "    </tr>\n",
       "    <tr>\n",
       "      <th>2806</th>\n",
       "      <td>Epistaxis léger unilatéral</td>\n",
       "      <td>NEW_CRH_val_sample_86.ann</td>\n",
       "    </tr>\n",
       "    <tr>\n",
       "      <th>14170</th>\n",
       "      <td>douleur glutéale droite irradiant en face post...</td>\n",
       "      <td>CRH_val_sample_321.ann</td>\n",
       "    </tr>\n",
       "    <tr>\n",
       "      <th>15550</th>\n",
       "      <td>F</td>\n",
       "      <td>CRH_val_sample_14.ann</td>\n",
       "    </tr>\n",
       "    <tr>\n",
       "      <th>8916</th>\n",
       "      <td>rétinite pigmentaire</td>\n",
       "      <td>CRH_val_sample_89.ann</td>\n",
       "    </tr>\n",
       "    <tr>\n",
       "      <th>2932</th>\n",
       "      <td>lupus subaigu</td>\n",
       "      <td>NEW_CRH_val_sample_46.ann</td>\n",
       "    </tr>\n",
       "    <tr>\n",
       "      <th>16775</th>\n",
       "      <td>Lupus</td>\n",
       "      <td>CRH_val_sample_0.ann</td>\n",
       "    </tr>\n",
       "    <tr>\n",
       "      <th>14639</th>\n",
       "      <td>gazométrie artérielle est en hyperventilation</td>\n",
       "      <td>CRH_val_sample_115.ann</td>\n",
       "    </tr>\n",
       "    <tr>\n",
       "      <th>3496</th>\n",
       "      <td>insuffisance rénale aiguë</td>\n",
       "      <td>CRH_val_sample_386.ann</td>\n",
       "    </tr>\n",
       "    <tr>\n",
       "      <th>1969</th>\n",
       "      <td>PTI</td>\n",
       "      <td>CRH_val_sample_399.ann</td>\n",
       "    </tr>\n",
       "    <tr>\n",
       "      <th>16738</th>\n",
       "      <td>bradypnée</td>\n",
       "      <td>CRH_val_sample_379.ann</td>\n",
       "    </tr>\n",
       "    <tr>\n",
       "      <th>9481</th>\n",
       "      <td>Sclérodermie systémique de forme cutanée diffuse</td>\n",
       "      <td>CRH_val_sample_128.ann</td>\n",
       "    </tr>\n",
       "  </tbody>\n",
       "</table>\n",
       "</div>"
      ],
      "text/plain": [
       "                                                    term  \\\n",
       "15991             anévrysme de l’artère fémorale commune   \n",
       "9021                                         Dyskinésies   \n",
       "11998                  limitation de l'ouverture buccale   \n",
       "13854                                               CAPS   \n",
       "7104                                    RCF pathologique   \n",
       "7530                                                   F   \n",
       "16449                      glomérulonéphrite de classe I   \n",
       "13432                                Syndrome de Raynaud   \n",
       "8199                           Vessie faiblement remplie   \n",
       "3207                densité liquidienne et non hématique   \n",
       "17591            Régulièrement des douleurs articulaires   \n",
       "5518                                        DM anti-MDA5   \n",
       "13807                                                LES   \n",
       "11235                                          cytopénie   \n",
       "6991                                          lombalgies   \n",
       "14675             Atteinte thrombotique veineuse diffuse   \n",
       "7036                                Phénomène de Raynaud   \n",
       "15953                                            Raynaud   \n",
       "8999                                               crose   \n",
       "2806                          Epistaxis léger unilatéral   \n",
       "14170  douleur glutéale droite irradiant en face post...   \n",
       "15550                                                  F   \n",
       "8916                                rétinite pigmentaire   \n",
       "2932                                       lupus subaigu   \n",
       "16775                                              Lupus   \n",
       "14639      gazométrie artérielle est en hyperventilation   \n",
       "3496                           insuffisance rénale aiguë   \n",
       "1969                                                 PTI   \n",
       "16738                                          bradypnée   \n",
       "9481    Sclérodermie systémique de forme cutanée diffuse   \n",
       "\n",
       "                          source  \n",
       "15991     CRH_val_sample_239.ann  \n",
       "9021      CRH_val_sample_380.ann  \n",
       "11998     CRH_val_sample_179.ann  \n",
       "13854     CRH_val_sample_382.ann  \n",
       "7104      CRH_val_sample_364.ann  \n",
       "7530    NEW_CRH_val_sample_9.ann  \n",
       "16449  NEW_CRH_val_sample_61.ann  \n",
       "13432     CRH_val_sample_193.ann  \n",
       "8199   NEW_CRH_val_sample_35.ann  \n",
       "3207      CRH_val_sample_357.ann  \n",
       "17591      CRH_val_sample_42.ann  \n",
       "5518       CRH_val_sample_98.ann  \n",
       "13807  NEW_CRH_val_sample_42.ann  \n",
       "11235  NEW_CRH_val_sample_52.ann  \n",
       "6991      CRH_val_sample_375.ann  \n",
       "14675      CRH_val_sample_54.ann  \n",
       "7036   NEW_CRH_val_sample_72.ann  \n",
       "15953      CRH_val_sample_13.ann  \n",
       "8999      CRH_val_sample_380.ann  \n",
       "2806   NEW_CRH_val_sample_86.ann  \n",
       "14170     CRH_val_sample_321.ann  \n",
       "15550      CRH_val_sample_14.ann  \n",
       "8916       CRH_val_sample_89.ann  \n",
       "2932   NEW_CRH_val_sample_46.ann  \n",
       "16775       CRH_val_sample_0.ann  \n",
       "14639     CRH_val_sample_115.ann  \n",
       "3496      CRH_val_sample_386.ann  \n",
       "1969      CRH_val_sample_399.ann  \n",
       "16738     CRH_val_sample_379.ann  \n",
       "9481      CRH_val_sample_128.ann  "
      ]
     },
     "execution_count": 17,
     "metadata": {},
     "output_type": "execute_result"
    }
   ],
   "source": [
    "dataset_df = pd.DataFrame(data=list(data), columns=columns)\n",
    "# dataset_df = dataset_df.drop_duplicates().reset_index(drop=True)\n",
    "dataset_df.sample(30)"
   ]
  },
  {
   "cell_type": "code",
   "execution_count": 48,
   "id": "f99234bc-f8bb-4943-84cc-10416538c0ce",
   "metadata": {},
   "outputs": [
    {
     "data": {
      "text/html": [
       "<div>\n",
       "<style scoped>\n",
       "    .dataframe tbody tr th:only-of-type {\n",
       "        vertical-align: middle;\n",
       "    }\n",
       "\n",
       "    .dataframe tbody tr th {\n",
       "        vertical-align: top;\n",
       "    }\n",
       "\n",
       "    .dataframe thead th {\n",
       "        text-align: right;\n",
       "    }\n",
       "</style>\n",
       "<table border=\"1\" class=\"dataframe\">\n",
       "  <thead>\n",
       "    <tr style=\"text-align: right;\">\n",
       "      <th></th>\n",
       "      <th>term</th>\n",
       "      <th>source</th>\n",
       "    </tr>\n",
       "  </thead>\n",
       "  <tbody>\n",
       "  </tbody>\n",
       "</table>\n",
       "</div>"
      ],
      "text/plain": [
       "Empty DataFrame\n",
       "Columns: [term, source]\n",
       "Index: []"
      ]
     },
     "execution_count": 48,
     "metadata": {},
     "output_type": "execute_result"
    }
   ],
   "source": [
    "dataset_df[dataset_df['term'] == 'taka'] "
   ]
  },
  {
   "cell_type": "code",
   "execution_count": 43,
   "id": "a7edb5f4-56ea-4cbd-a0a2-bc301727d0d3",
   "metadata": {},
   "outputs": [
    {
     "data": {
      "text/plain": [
       "100"
      ]
     },
     "execution_count": 43,
     "metadata": {},
     "output_type": "execute_result"
    }
   ],
   "source": [
    "# look for number of patients with lupus, Scl, SAPL and Taka in validation dataset\n",
    "df_lupus = dataset_df[(dataset_df['term'] == 'lupus')|(dataset_df['term'] == 'Lupus')|\n",
    "                      (dataset_df['term'] == 'lupique')\n",
    "                     |(dataset_df['term'] == 'LES')]\n",
    "df_lupus = df_lupus.drop_duplicates().reset_index(drop=True)\n",
    "df_lupus.sample(5)\n",
    "len(df_lupus)"
   ]
  },
  {
   "cell_type": "code",
   "execution_count": 44,
   "id": "f087e4b6-7c48-4580-9990-b300d5f90c3c",
   "metadata": {},
   "outputs": [
    {
     "data": {
      "text/plain": [
       "51"
      ]
     },
     "execution_count": 44,
     "metadata": {},
     "output_type": "execute_result"
    }
   ],
   "source": [
    "# look for number of patients with lupus, Scl, SAPL and Taka in validation dataset\n",
    "df_sapl = dataset_df[(dataset_df['term'] == 'SAPL')]\n",
    "df_sapl = df_sapl.drop_duplicates().reset_index(drop=True)\n",
    "df_sapl.sample(5)\n",
    "len(df_sapl)"
   ]
  },
  {
   "cell_type": "code",
   "execution_count": 45,
   "id": "72936382-6bb5-408f-aec6-fdfa6191f41e",
   "metadata": {},
   "outputs": [
    {
     "data": {
      "text/plain": [
       "88"
      ]
     },
     "execution_count": 45,
     "metadata": {},
     "output_type": "execute_result"
    }
   ],
   "source": [
    "df_scl = dataset_df[(dataset_df['term'] == 'sclérodermie')|(dataset_df['term'] == 'Sclérodermie')\n",
    "                   |(dataset_df['term'] == 'sclérodermie systémique') \n",
    "                    |(dataset_df['term'] == 'Sclérodermie systémique')\n",
    "                    |(dataset_df['term'] == 'sclérodermie diffuse')\n",
    "                   ]\n",
    "df_scl = df_scl.drop_duplicates().reset_index(drop=True)\n",
    "df_scl.sample(5)\n",
    "len(df_scl)"
   ]
  },
  {
   "cell_type": "code",
   "execution_count": 46,
   "id": "5e11222e-ad00-489d-b4ff-19c22f1e312b",
   "metadata": {},
   "outputs": [
    {
     "data": {
      "text/plain": [
       "18"
      ]
     },
     "execution_count": 46,
     "metadata": {},
     "output_type": "execute_result"
    }
   ],
   "source": [
    "df_taka = dataset_df[(dataset_df['term'] == 'Takayasu')|(dataset_df['term'] == 'maladie de Takayasu')]\n",
    "df_taka = df_taka.drop_duplicates().reset_index(drop=True)\n",
    "df_taka.sample(5)\n",
    "len(df_taka)"
   ]
  },
  {
   "cell_type": "code",
   "execution_count": 47,
   "id": "b388fafa-d068-40ee-ab7d-adb66cf9e255",
   "metadata": {},
   "outputs": [
    {
     "data": {
      "text/plain": [
       "257"
      ]
     },
     "execution_count": 47,
     "metadata": {},
     "output_type": "execute_result"
    }
   ],
   "source": [
    "len(df_lupus)+len(df_sapl)+len(df_scl)+len(df_taka)"
   ]
  },
  {
   "cell_type": "code",
   "execution_count": 15,
   "id": "773c5c92-dcf9-42e4-a394-fff8bd294805",
   "metadata": {},
   "outputs": [
    {
     "data": {
      "text/html": [
       "<div>\n",
       "<style scoped>\n",
       "    .dataframe tbody tr th:only-of-type {\n",
       "        vertical-align: middle;\n",
       "    }\n",
       "\n",
       "    .dataframe tbody tr th {\n",
       "        vertical-align: top;\n",
       "    }\n",
       "\n",
       "    .dataframe thead th {\n",
       "        text-align: right;\n",
       "    }\n",
       "</style>\n",
       "<table border=\"1\" class=\"dataframe\">\n",
       "  <thead>\n",
       "    <tr style=\"text-align: right;\">\n",
       "      <th></th>\n",
       "      <th>term</th>\n",
       "      <th>source</th>\n",
       "    </tr>\n",
       "  </thead>\n",
       "  <tbody>\n",
       "    <tr>\n",
       "      <th>218</th>\n",
       "      <td>F</td>\n",
       "      <td>CRH_val_sample_9.ann</td>\n",
       "    </tr>\n",
       "    <tr>\n",
       "      <th>228</th>\n",
       "      <td>F</td>\n",
       "      <td>CRH_val_sample_70.ann</td>\n",
       "    </tr>\n",
       "    <tr>\n",
       "      <th>82</th>\n",
       "      <td>F</td>\n",
       "      <td>CRH_val_sample_199.ann</td>\n",
       "    </tr>\n",
       "    <tr>\n",
       "      <th>15</th>\n",
       "      <td>F</td>\n",
       "      <td>CRH_val_sample_3.ann</td>\n",
       "    </tr>\n",
       "    <tr>\n",
       "      <th>47</th>\n",
       "      <td>M</td>\n",
       "      <td>NEW_CRH_val_sample_34.ann</td>\n",
       "    </tr>\n",
       "  </tbody>\n",
       "</table>\n",
       "</div>"
      ],
      "text/plain": [
       "    term                     source\n",
       "218    F       CRH_val_sample_9.ann\n",
       "228    F      CRH_val_sample_70.ann\n",
       "82     F     CRH_val_sample_199.ann\n",
       "15     F       CRH_val_sample_3.ann\n",
       "47     M  NEW_CRH_val_sample_34.ann"
      ]
     },
     "execution_count": 15,
     "metadata": {},
     "output_type": "execute_result"
    }
   ],
   "source": [
    "# Save separetely genders in antoher table\n",
    "df_gender = dataset_df[(dataset_df['term'] == 'F') | (dataset_df['term'] == 'M')]\n",
    "df_gender = df_gender.drop_duplicates().reset_index(drop=True)\n",
    "df_gender.sample(5)"
   ]
  },
  {
   "cell_type": "code",
   "execution_count": 16,
   "id": "e59973cb-c878-4038-877c-4061a4569e00",
   "metadata": {},
   "outputs": [],
   "source": [
    "# save predicted terms \n",
    "dataset_df.to_csv(OUT_DF)\n",
    "# save gender separately :\n",
    "df_gender.to_csv(OUT_Gender)"
   ]
  },
  {
   "cell_type": "code",
   "execution_count": null,
   "id": "dbffb64b-76c1-4a4f-96db-381c5ba34ad2",
   "metadata": {},
   "outputs": [],
   "source": []
  }
 ],
 "metadata": {
  "kernelspec": {
   "display_name": "Expe_Pheno",
   "language": "python",
   "name": "expe_pheno"
  },
  "language_info": {
   "codemirror_mode": {
    "name": "ipython",
    "version": 3
   },
   "file_extension": ".py",
   "mimetype": "text/x-python",
   "name": "python",
   "nbconvert_exporter": "python",
   "pygments_lexer": "ipython3",
   "version": "3.7.9"
  }
 },
 "nbformat": 4,
 "nbformat_minor": 5
}
