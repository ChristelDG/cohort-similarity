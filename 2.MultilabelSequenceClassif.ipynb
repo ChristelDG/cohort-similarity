{
 "cells": [
  {
   "cell_type": "markdown",
   "metadata": {},
   "source": [
    "# BERT multilabel sequence classification \n",
    "\n",
    "- Model : CamembertForSequenceClassification\n",
    "\n",
    "- Input : should be an extracted entity from clinical text\n",
    "- Output : one label or more from MeSH labels\n",
    "\n",
    "- Training set : mesh_term_dataset, UMLS dataset, local dataset etc... \n",
    "\n"
   ]
  },
  {
   "cell_type": "code",
   "execution_count": 1,
   "metadata": {},
   "outputs": [
    {
     "name": "stdout",
     "output_type": "stream",
     "text": [
      "device cuda\n"
     ]
    }
   ],
   "source": [
    "import numpy as np \n",
    "import pandas as pd \n",
    "import os\n",
    "from sklearn.metrics import classification_report, confusion_matrix, multilabel_confusion_matrix, f1_score, fbeta_score, precision_score, recall_score, accuracy_score\n",
    "from datetime import datetime\n",
    "\n",
    "os.environ['CUDA_VISIBLE_DEVICES'] = \"0\" # ou un autre numéro, d'après ce qui est dispo en faisant nvidia-sm\n",
    "\n",
    "import re\n",
    "\n",
    "# Camembert version :\n",
    "from transformers import CamembertTokenizer, CamembertForSequenceClassification, AdamW, get_linear_schedule_with_warmup\n",
    "\n",
    "# multilingual version : \n",
    "# from transformers import BertTokenizer, BertForSequenceClassification, AdamW, get_linear_schedule_with_warmup\n",
    "\n",
    "import torch\n",
    "from torch.utils.data import Dataset, TensorDataset, RandomSampler, SequentialSampler, DataLoader\n",
    "from torch.nn import BCEWithLogitsLoss, Sigmoid\n",
    "\n",
    "\n",
    "from sklearn.model_selection import train_test_split\n",
    "from tqdm import tqdm\n",
    "\n",
    "\n",
    "device = torch.device(\"cuda\" if torch.cuda.is_available() else \"cpu\")\n",
    "print('device',device)\n",
    "\n",
    "# the model : \n",
    "bert_name = \"/export/home/cse200093/camembert-large/\"\n",
    "# bert_name = \"/export/home/cse200093/bert-base-multilingual-cased/\"\n",
    "lower = True\n",
    "run_name = 'expe_pheno_classifier_camembert_l_umls_fr_local'\n",
    "\n",
    "batch_size = 32\n",
    "\n",
    "max_epochs = 50\n",
    "\n",
    "# validation_mode = 'deft_only' \n",
    "# validation_mode = 'random_with_deft_distribution'\n",
    "validation_mode = 'random'\n",
    "\n",
    "threshold_mode = 'single'\n",
    "#threshold_mode = 'per_class'\n",
    "\n",
    "assert validation_mode in ('deft_only', 'random', 'random_with_deft_distribution')\n",
    "assert threshold_mode in ('single', 'per_class')\n",
    "\n",
    "Max_len = 128 # just to reminder : 13 on 9383 samples are larger than 128.\n",
    "val_rate = .2\n",
    "debug = 0\n",
    "\n",
    "\n",
    "training_file = \"/export/home/cse200093/Expe_Pheno/resources/08022022_classifier_local_train_val.csv\"\n",
    "test_file = '/export/home/cse200093/Expe_Pheno/resources/15_02_2022_CRH_VAL_PHENO_pred.csv'\n",
    "\n"
   ]
  },
  {
   "cell_type": "code",
   "execution_count": 4,
   "metadata": {},
   "outputs": [
    {
     "name": "stdout",
     "output_type": "stream",
     "text": [
      "df_train (60690, 4)\n",
      "df_test (18818, 3)\n"
     ]
    }
   ],
   "source": [
    "# load the training file \n",
    "df_mesh = pd.read_csv(training_file)\n",
    "\n",
    "# df_train = df_mesh[(df_mesh.source == \"DEFT-train\") | (df_mesh.source == \"Mesh-FR\")]\n",
    "\n",
    "# Option 1 : try to get all the DEFT term for the validation test\n",
    "df_train = df_mesh \n",
    "\n",
    "# print('df_val', df_val.shape)\n",
    "\n",
    "\n",
    "# load the test file, i.e. the sosy and path predicted entities from Pyner output\n",
    "df_test = pd.read_csv(test_file)\n",
    "\n",
    "if debug >= 2:\n",
    "    df_train = df_train.sample(100)\n",
    "    max_epochs = 5\n",
    "elif debug == 1:\n",
    "    df_train = df_train.sample(5000)\n",
    "    \n",
    "    max_epochs = 5\n",
    "    \n",
    "print('df_train', df_train.shape)\n",
    "print('df_test', df_test.shape)"
   ]
  },
  {
   "cell_type": "code",
   "execution_count": 5,
   "metadata": {},
   "outputs": [],
   "source": [
    "df_gr = df_train.groupby(['term','source'])"
   ]
  },
  {
   "cell_type": "code",
   "execution_count": 6,
   "metadata": {},
   "outputs": [
    {
     "data": {
      "text/html": [
       "<div>\n",
       "<style scoped>\n",
       "    .dataframe tbody tr th:only-of-type {\n",
       "        vertical-align: middle;\n",
       "    }\n",
       "\n",
       "    .dataframe tbody tr th {\n",
       "        vertical-align: top;\n",
       "    }\n",
       "\n",
       "    .dataframe thead th {\n",
       "        text-align: right;\n",
       "    }\n",
       "</style>\n",
       "<table border=\"1\" class=\"dataframe\">\n",
       "  <thead>\n",
       "    <tr style=\"text-align: right;\">\n",
       "      <th></th>\n",
       "      <th>Unnamed: 0</th>\n",
       "      <th>term</th>\n",
       "      <th>label</th>\n",
       "      <th>source</th>\n",
       "    </tr>\n",
       "  </thead>\n",
       "  <tbody>\n",
       "    <tr>\n",
       "      <th>4394</th>\n",
       "      <td>4394</td>\n",
       "      <td>Aphasie de conduction</td>\n",
       "      <td>nerveux</td>\n",
       "      <td>Mesh-FR</td>\n",
       "    </tr>\n",
       "    <tr>\n",
       "      <th>16301</th>\n",
       "      <td>16301</td>\n",
       "      <td>Canal auriculoventriculaire commun</td>\n",
       "      <td>cardiovasculaires</td>\n",
       "      <td>CUI_syn_FR</td>\n",
       "    </tr>\n",
       "    <tr>\n",
       "      <th>43049</th>\n",
       "      <td>43049</td>\n",
       "      <td>rétinopathie diabetique débutante</td>\n",
       "      <td>cardiovasculaires</td>\n",
       "      <td>CRH_scl_sample_44.ann</td>\n",
       "    </tr>\n",
       "    <tr>\n",
       "      <th>20123</th>\n",
       "      <td>20123</td>\n",
       "      <td>Hypertélorisme</td>\n",
       "      <td>genetique</td>\n",
       "      <td>CUI_syn_FR</td>\n",
       "    </tr>\n",
       "    <tr>\n",
       "      <th>6658</th>\n",
       "      <td>6658</td>\n",
       "      <td>Ectopie du cristallin</td>\n",
       "      <td>genetique</td>\n",
       "      <td>Mesh-FR</td>\n",
       "    </tr>\n",
       "  </tbody>\n",
       "</table>\n",
       "</div>"
      ],
      "text/plain": [
       "       Unnamed: 0                                term              label  \\\n",
       "4394         4394               Aphasie de conduction            nerveux   \n",
       "16301       16301  Canal auriculoventriculaire commun  cardiovasculaires   \n",
       "43049       43049   rétinopathie diabetique débutante  cardiovasculaires   \n",
       "20123       20123                      Hypertélorisme          genetique   \n",
       "6658         6658               Ectopie du cristallin          genetique   \n",
       "\n",
       "                      source  \n",
       "4394                 Mesh-FR  \n",
       "16301             CUI_syn_FR  \n",
       "43049  CRH_scl_sample_44.ann  \n",
       "20123             CUI_syn_FR  \n",
       "6658                 Mesh-FR  "
      ]
     },
     "execution_count": 6,
     "metadata": {},
     "output_type": "execute_result"
    }
   ],
   "source": [
    "df_train.sample(5)"
   ]
  },
  {
   "cell_type": "code",
   "execution_count": 8,
   "metadata": {},
   "outputs": [],
   "source": [
    "def parse_all_thresholds(pred_labels, true_bools, criterion=f1_score):\n",
    "    all_results = []\n",
    "    macro_thresholds = np.array(range(1,100))/100\n",
    "    for th in macro_thresholds:\n",
    "        pred_bools = [pl>th for pl in pred_labels]\n",
    "        best_value = criterion(true_bools,pred_bools,average='micro')\n",
    "        #test_flat_accuracy = accuracy_score(true_bools, pred_bools)\n",
    "        all_results.append(best_value)\n",
    "        #flat_acc_results.append(test_flat_accuracy)\n",
    "        #print(th, \n",
    "        #      test_f1_accuracy, \n",
    "        #      fbeta_score(true_bools,pred_bools,beta=0.5,labels=[1],average='micro'),\n",
    "        #      fbeta_score(true_bools,pred_bools,beta=0.6666,labels=[1],average='micro'),\n",
    "        #      precision_score(true_bools,pred_bools,labels=[1],average='micro'),\n",
    "        #      recall_score(true_bools,pred_bools,labels=[1],average='micro')\n",
    "        #     ) \n",
    "\n",
    "    best_idx = np.argmax(all_results)\n",
    "    best_th = macro_thresholds[best_idx] #best macro threshold value\n",
    "\n",
    "    #micro_thresholds = (np.array(range(10))/100)+best_th #calculating micro threshold values\n",
    "#\n",
    "    #f1_results, flat_acc_results = [], []\n",
    "    #for th in micro_thresholds:\n",
    "    #    pred_bools = [pl>th for pl in pred_labels]\n",
    "    #    test_f1_accuracy = f1_score(true_bools,pred_bools,labels=[1],average='micro')\n",
    "    #    test_flat_accuracy = accuracy_score(true_bools, pred_bools)\n",
    "    #    f1_results.append(test_f1_accuracy)\n",
    "    #    flat_acc_results.append(test_flat_accuracy)\n",
    "#\n",
    "    #best_f1_idx = np.argmax(f1_results) #best threshold value\n",
    "    #best_th = micro_thresholds[best_f1_idx]\n",
    "    return best_th, all_results[best_idx]\n",
    " \n",
    "\n",
    "def get_best_threshold(pred_labels, true_bools, threshold_mode, criterion=f1_score):\n",
    "    if threshold_mode == 'per_class':\n",
    "        best_thresholds = []\n",
    "        best_pred_bools = np.zeros_like(pred_labels)\n",
    "        for label_index in range(len(label_names)):\n",
    "            these_pred_labels = pred_labels[:,label_index]\n",
    "            these_true_bools = true_bools[:,label_index]\n",
    "\n",
    "            best_th, best_value = parse_all_thresholds(these_pred_labels, these_true_bools, criterion=criterion)\n",
    "\n",
    "            # Printing and saving classification report\n",
    "            best_thresholds.append(best_th)\n",
    "\n",
    "            best_pred_bools[:,label_index] = [pl>best_th for pl in these_pred_labels]\n",
    "\n",
    "\n",
    "    elif threshold_mode == 'single':\n",
    "        best_th, best_value = parse_all_thresholds(pred_labels, true_bools, criterion=criterion)\n",
    "        best_pred_bools = [pl>best_th for pl in pred_labels]\n",
    "        best_thresholds = [best_th] * len(label_names)\n",
    "    clf_report_optimized = classification_report(true_bools,best_pred_bools, target_names=col_label)\n",
    "    return best_thresholds, best_value, clf_report_optimized"
   ]
  },
  {
   "cell_type": "code",
   "execution_count": 9,
   "metadata": {},
   "outputs": [],
   "source": [
    "# Pre-processing of the text :   \n",
    "import unidecode\n",
    "\n",
    "def strip(text, lower=False):\n",
    "    # pattern = r\"[^a-zA-z0-9\\s,']\"\n",
    "    # text = unidecode.unidecode(text)\n",
    "    text = re.sub(r'^-','',text, count = 1)\n",
    "    if lower:\n",
    "        return text.lower()\n",
    "    else:\n",
    "        return text\n"
   ]
  },
  {
   "cell_type": "code",
   "execution_count": 10,
   "metadata": {},
   "outputs": [
    {
     "data": {
      "text/html": [
       "<div>\n",
       "<style scoped>\n",
       "    .dataframe tbody tr th:only-of-type {\n",
       "        vertical-align: middle;\n",
       "    }\n",
       "\n",
       "    .dataframe tbody tr th {\n",
       "        vertical-align: top;\n",
       "    }\n",
       "\n",
       "    .dataframe thead th {\n",
       "        text-align: right;\n",
       "    }\n",
       "</style>\n",
       "<table border=\"1\" class=\"dataframe\">\n",
       "  <thead>\n",
       "    <tr style=\"text-align: right;\">\n",
       "      <th></th>\n",
       "      <th>Unnamed: 0</th>\n",
       "      <th>term</th>\n",
       "      <th>source</th>\n",
       "    </tr>\n",
       "  </thead>\n",
       "  <tbody>\n",
       "    <tr>\n",
       "      <th>12432</th>\n",
       "      <td>12432</td>\n",
       "      <td>lipodermatosclérose</td>\n",
       "      <td>CRH_val_sample_130.ann</td>\n",
       "    </tr>\n",
       "    <tr>\n",
       "      <th>10818</th>\n",
       "      <td>10818</td>\n",
       "      <td>grossesse</td>\n",
       "      <td>CRH_val_sample_329.ann</td>\n",
       "    </tr>\n",
       "    <tr>\n",
       "      <th>15007</th>\n",
       "      <td>15007</td>\n",
       "      <td>lupus systémique à début pédiatrique avec pous...</td>\n",
       "      <td>CRH_val_sample_85.ann</td>\n",
       "    </tr>\n",
       "    <tr>\n",
       "      <th>12098</th>\n",
       "      <td>12098</td>\n",
       "      <td>entorse de la cheville</td>\n",
       "      <td>CRH_val_sample_95.ann</td>\n",
       "    </tr>\n",
       "    <tr>\n",
       "      <th>17740</th>\n",
       "      <td>17740</td>\n",
       "      <td>odynophagie</td>\n",
       "      <td>NEW_CRH_val_sample_26.ann</td>\n",
       "    </tr>\n",
       "  </tbody>\n",
       "</table>\n",
       "</div>"
      ],
      "text/plain": [
       "       Unnamed: 0                                               term  \\\n",
       "12432       12432                                lipodermatosclérose   \n",
       "10818       10818                                          grossesse   \n",
       "15007       15007  lupus systémique à début pédiatrique avec pous...   \n",
       "12098       12098                             entorse de la cheville   \n",
       "17740       17740                                        odynophagie   \n",
       "\n",
       "                          source  \n",
       "12432     CRH_val_sample_130.ann  \n",
       "10818     CRH_val_sample_329.ann  \n",
       "15007      CRH_val_sample_85.ann  \n",
       "12098      CRH_val_sample_95.ann  \n",
       "17740  NEW_CRH_val_sample_26.ann  "
      ]
     },
     "execution_count": 10,
     "metadata": {},
     "output_type": "execute_result"
    }
   ],
   "source": [
    "df_test['term'] = df_test['term'].apply(strip, args=(lower,))\n",
    "df_test.sample(5)"
   ]
  },
  {
   "cell_type": "code",
   "execution_count": 11,
   "metadata": {},
   "outputs": [],
   "source": [
    "def extract_validation_set_with_weights(df, label_names, weights, val_rate):\n",
    "    # Copy df\n",
    "    local_df = df.copy()\n",
    "    # Class distribution (only approximate, because of the multilabel nature of the data)\n",
    "    class_distrib = weights/weights.sum()\n",
    "    # How many lines should we draw?\n",
    "    val_size = int(len(df) * val_rate)\n",
    "    # How many lines of each class should we draw?\n",
    "    val_sizes = np.around(val_size * class_distrib).astype(int)\n",
    "    df_val = None\n",
    "    # Select and remove the right number of raws per class\n",
    "    # (leads to an approximate distribution because of the multilabel nature of the data)\n",
    "    for label_name, number in zip(label_names, val_sizes):\n",
    "        label_df = local_df[local_df[label_name] > 0]\n",
    "        sample = label_df.sample(number, random_state=2)\n",
    "        if df_val is None:\n",
    "            df_val = sample.copy()\n",
    "        else:\n",
    "            df_val = df_val.append(sample)\n",
    "        local_df = local_df.drop(sample.index)\n",
    "    return local_df, df_val\n",
    "\n"
   ]
  },
  {
   "cell_type": "code",
   "execution_count": 12,
   "metadata": {
    "scrolled": true
   },
   "outputs": [
    {
     "name": "stdout",
     "output_type": "stream",
     "text": [
      "24784 6197\n",
      "['ORL', 'blessures', 'cardiovasculaires', 'chimiques', 'digestif', 'endocriniennes', 'etatsosy', 'genetique', 'hemopathies', 'immunitaire', 'infections', 'nerveux', 'nutritionnelles', 'oeil', 'osteomusculaires', 'parasitaires', 'peau', 'respiratoire', 'stomatognathique', 'tumeur', 'urogen', 'virales']\n"
     ]
    }
   ],
   "source": [
    "# fusion \"homme\" and \"femme\" label to \"urogen\"\n",
    "df_train.replace('femme','urogen', inplace = True)\n",
    "df_train.replace('homme','urogen', inplace = True)\n",
    "\n",
    "# Preprocessing\n",
    "# 1. Transform the dataFrame so that each label \"nerveux\", \"etatsosy\", \"chimiques\" etc... is a column\n",
    "#    and all the values are 0 or 1\n",
    "# 2. Apply text transformation\n",
    "df_deft_train = df_train[df_train['source'].str.contains('DEFT')]    \n",
    "df_deft_train = pd.get_dummies(df_deft_train, prefix = None, columns = ['label'])\n",
    "df_deft_train['term'] = df_deft_train['term'].apply(strip, args=(lower,))        \n",
    "df_deft_train = df_deft_train.groupby(['term']).max().reset_index()    \n",
    "label_names = [l for l in df_deft_train.columns if l.startswith('label_')]    \n",
    "pos_weights = torch.Tensor(df_deft_train[label_names].sum(axis=0).to_numpy()/len(df_deft_train))\n",
    "pos_weights = pos_weights/pos_weights.mean()\n",
    "\n",
    "# validate on DEFT only\n",
    "if validation_mode == 'deft_only':\n",
    "    df_train_train = df_train[~df_train['source'].str.contains('DEFT')]\n",
    "    df_train_train = pd.get_dummies(df_train_train, prefix = None, columns = ['label'])\n",
    "    df_train_train['term'] = df_train_train['term'].apply(strip, args=(lower,))        \n",
    "    df_train_train = df_train_train.groupby(['term']).max().reset_index()    \n",
    "\n",
    "    df_train_val = df_deft_train\n",
    "    print(df_train_train.shape, df_train_val.shape)\n",
    "    \n",
    "    train_labels = df_train_train[label_names].to_numpy()\n",
    "    val_labels = df_train_val[label_names].to_numpy()\n",
    "    train_texts = list(df_train_train['term'])\n",
    "    val_texts = list(df_train_val['term'])\n",
    "    \n",
    "# validate on a random sample of DEFT+terms\n",
    "elif validation_mode == 'random':\n",
    "    df_train = pd.get_dummies(df_train, prefix = None, columns = ['label'])\n",
    "    df_train = df_train.groupby(['term']).max().reset_index()\n",
    "    df_train['term'] = df_train['term'].apply(strip, args=(lower,))\n",
    "    # split the train set into a training and validation dataset :\n",
    "    train_sentences = list(df_train['term'])\n",
    "    labels = df_train[label_names].to_numpy()\n",
    "    \n",
    "    train_texts, val_texts, train_labels, val_labels = train_test_split(train_sentences, \n",
    "                                                                        labels, \n",
    "                                                                        test_size=val_rate,\n",
    "                                                                        random_state=2)\n",
    "    print(len(train_texts), len(val_texts))\n",
    "    \n",
    "# validate on a random sample of DEFT+terms, with approximate DEFT class distribution\n",
    "elif validation_mode == 'random_with_deft_distribution':\n",
    "    df_train = pd.get_dummies(df_train, prefix = None, columns = ['label'])\n",
    "    df_train = df_train.groupby(['term']).max().reset_index()\n",
    "    df_train['term'] = df_train['term'].apply(strip, args=(lower,))\n",
    "\n",
    "    df_train_train, df_train_val = extract_validation_set_with_weights(df_train, label_names, pos_weights.numpy(), val_rate)\n",
    "    train_labels = df_train_train[label_names].to_numpy()\n",
    "    val_labels = df_train_val[label_names].to_numpy()\n",
    "    train_texts = list(df_train_train['term'])\n",
    "    val_texts = list(df_train_val['term'])\n",
    "else:\n",
    "    raise ValueError(validation_mode)\n",
    "    \n",
    "col_label = [l[6:] for l in label_names]\n",
    "#print(labels)\n",
    "print(col_label)"
   ]
  },
  {
   "cell_type": "code",
   "execution_count": 24,
   "metadata": {
    "jupyter": {
     "source_hidden": true
    },
    "tags": []
   },
   "outputs": [],
   "source": [
    "#pb = 0\n",
    "#for _, raw in df_train_val.iterrows():\n",
    "#    term = raw['term']\n",
    "#    tr_df = df_train_train[df_train_train['term'] == term]\n",
    "#    if len(tr_df) > 0:\n",
    "#        #print(term, 'DEFT')\n",
    "#        deft_set = set()\n",
    "#        for l in label_names:\n",
    "#            if raw[l] > 0:\n",
    "#                deft_set.add(l)\n",
    "#        #print(term, \"DEFT\", deft_set)\n",
    "#        #print(term, 'OTHERS ', len(tr_df))\n",
    "#        other_set = set()\n",
    "#        i = 0\n",
    "#        for _, r in tr_df.iterrows():\n",
    "#            for l in label_names:\n",
    "#                if r[l] > 0:\n",
    "#                    assert not (i > 0 and l not in other_set), str(other_set) + \" \" + l\n",
    "#                    other_set.add(l)\n",
    "#            i += 1\n",
    "#        if other_set != deft_set:\n",
    "#            print(term, deft_set, ' vs ', other_set)\n",
    "#            pb += 1\n",
    "#print(pb)\n",
    "#        #print(term, \"OTHER\", other_set)\n",
    "#        #print('---------------')"
   ]
  },
  {
   "cell_type": "code",
   "execution_count": 13,
   "metadata": {},
   "outputs": [],
   "source": [
    "df_test['term'] = df_test['term'].apply(strip, args=(lower,))\n",
    "\n",
    "# val_texts = list(df_val['term'])\n",
    "test_sentences = list(df_test['term'])"
   ]
  },
  {
   "cell_type": "code",
   "execution_count": 15,
   "metadata": {},
   "outputs": [
    {
     "name": "stdout",
     "output_type": "stream",
     "text": [
      "train_size  torch.Size([24784, 90])\n",
      "val_size  torch.Size([6197, 121])\n",
      "test_size  torch.Size([18818, 57])\n"
     ]
    },
    {
     "data": {
      "text/plain": [
       "((24784, 22), (6197, 22))"
      ]
     },
     "execution_count": 15,
     "metadata": {},
     "output_type": "execute_result"
    }
   ],
   "source": [
    "# define the tokenizer : \n",
    "if 'camembert' in bert_name.lower():\n",
    "    tokenizer = CamembertTokenizer.from_pretrained(bert_name, do_lower_case = lower)\n",
    "else:\n",
    "    tokenizer = BertTokenizer.from_pretrained(bert_name, do_lower_case = lower)\n",
    "\n",
    "\n",
    "# tokenization of the train, val and test dataset : \n",
    "train_tokenizer_texts = tokenizer(train_texts, return_tensors = 'pt', padding=True, truncation=True, max_length = Max_len)\n",
    "val_tokenizer_texts = tokenizer(val_texts, return_tensors = 'pt', padding=True, truncation=True, max_length = Max_len)\n",
    "test_tokenizer_texts = tokenizer(test_sentences, return_tensors = 'pt',padding=True, truncation=True, max_length = Max_len)\n",
    "\n",
    "\n",
    "print('train_size ', train_tokenizer_texts['input_ids'].size())\n",
    "print('val_size ', val_tokenizer_texts['input_ids'].size())\n",
    "print('test_size ', test_tokenizer_texts['input_ids'].size())\n",
    "\n",
    "attention_masks = train_tokenizer_texts['attention_mask']\n",
    "val_attention_masks = val_tokenizer_texts['attention_mask']\n",
    "test_attention_masks = test_tokenizer_texts['attention_mask']\n",
    "\n",
    "# test_token_type_ids = test_tokenizer_texts['token_type_ids']\n",
    "\n",
    "\n",
    "attention_masks[0] , val_attention_masks[0], test_attention_masks[0]\n",
    "train_labels.shape, val_labels.shape"
   ]
  },
  {
   "cell_type": "code",
   "execution_count": 16,
   "metadata": {},
   "outputs": [],
   "source": [
    "#Dataset wrapping tensors.\n",
    "\n",
    "class IMDbDataset(torch.utils.data.Dataset):\n",
    "    def __init__(self, encodings, labels):\n",
    "        self.encodings = encodings\n",
    "        self.labels = labels\n",
    "        \n",
    "\n",
    "    def __getitem__(self, idx):\n",
    "        item = {key: torch.tensor(val[idx]) for key, val in self.encodings.items()}\n",
    "        item['labels'] = torch.tensor(self.labels[idx])\n",
    "        return item\n",
    "\n",
    "    def __len__(self):\n",
    "        return len(self.labels)\n",
    "\n",
    "train_dataset = IMDbDataset(train_tokenizer_texts, train_labels)\n",
    "val_dataset = IMDbDataset(val_tokenizer_texts, val_labels)\n",
    "\n",
    "train_loader = DataLoader(train_dataset, batch_size=batch_size, shuffle=True)\n",
    "val_loader = DataLoader(val_dataset, batch_size=batch_size, shuffle=True)\n",
    "\n",
    "num_labels = len(label_names)\n"
   ]
  },
  {
   "cell_type": "code",
   "execution_count": null,
   "metadata": {
    "collapsed": true,
    "jupyter": {
     "outputs_hidden": true
    },
    "tags": []
   },
   "outputs": [
    {
     "name": "stdout",
     "output_type": "stream",
     "text": [
      "device cuda\n"
     ]
    },
    {
     "name": "stderr",
     "output_type": "stream",
     "text": [
      "Some weights of the model checkpoint at /export/home/cse200093/camembert-large/ were not used when initializing CamembertForSequenceClassification: ['lm_head.bias', 'lm_head.dense.weight', 'lm_head.dense.bias', 'lm_head.layer_norm.weight', 'lm_head.layer_norm.bias', 'lm_head.decoder.weight', 'roberta.pooler.dense.weight', 'roberta.pooler.dense.bias']\n",
      "- This IS expected if you are initializing CamembertForSequenceClassification from the checkpoint of a model trained on another task or with another architecture (e.g. initializing a BertForSequenceClassification model from a BertForPreTraining model).\n",
      "- This IS NOT expected if you are initializing CamembertForSequenceClassification from the checkpoint of a model that you expect to be exactly identical (initializing a BertForSequenceClassification model from a BertForSequenceClassification model).\n",
      "Some weights of CamembertForSequenceClassification were not initialized from the model checkpoint at /export/home/cse200093/camembert-large/ and are newly initialized: ['classifier.dense.weight', 'classifier.dense.bias', 'classifier.out_proj.weight', 'classifier.out_proj.bias']\n",
      "You should probably TRAIN this model on a down-stream task to be able to use it for predictions and inference.\n",
      "  0%|          | 0/775 [00:00<?, ?it/s]"
     ]
    },
    {
     "name": "stdout",
     "output_type": "stream",
     "text": [
      "EPOCH 0 / 50\n"
     ]
    },
    {
     "name": "stderr",
     "output_type": "stream",
     "text": [
      "/export/home/cse200093/.user_conda/miniconda/envs/Expe_Pheno/lib/python3.7/site-packages/ipykernel_launcher.py:10: UserWarning: To copy construct from a tensor, it is recommended to use sourceTensor.clone().detach() or sourceTensor.clone().detach().requires_grad_(True), rather than torch.tensor(sourceTensor).\n",
      "  # Remove the CWD from sys.path while we load stuff.\n",
      "100%|██████████| 775/775 [19:35<00:00,  1.52s/it]\n"
     ]
    },
    {
     "name": "stdout",
     "output_type": "stream",
     "text": [
      "Train Loss: 0.007918962425978589\n"
     ]
    },
    {
     "name": "stderr",
     "output_type": "stream",
     "text": [
      "/export/home/cse200093/.local/lib/python3.7/site-packages/sklearn/metrics/_classification.py:1248: UndefinedMetricWarning: Precision and F-score are ill-defined and being set to 0.0 in labels with no predicted samples. Use `zero_division` parameter to control this behavior.\n",
      "  _warn_prf(average, modifier, msg_start, len(result))\n",
      "/export/home/cse200093/.local/lib/python3.7/site-packages/sklearn/metrics/_classification.py:1248: UndefinedMetricWarning: Precision and F-score are ill-defined and being set to 0.0 in samples with no predicted labels. Use `zero_division` parameter to control this behavior.\n",
      "  _warn_prf(average, modifier, msg_start, len(result))\n"
     ]
    },
    {
     "name": "stdout",
     "output_type": "stream",
     "text": [
      "F1 Validation Accuracy: 0.4634424546595186      (with threshold 0.3)\n"
     ]
    },
    {
     "name": "stderr",
     "output_type": "stream",
     "text": [
      "  0%|          | 0/775 [00:00<?, ?it/s]"
     ]
    },
    {
     "name": "stdout",
     "output_type": "stream",
     "text": [
      "Best model so far... reset patience to 5\n",
      "Saved model 20220209T092729_expe_pheno_classifier_camembert_l_umls_fr_local after epoch 0\n",
      "EPOCH 1 / 50\n"
     ]
    },
    {
     "name": "stderr",
     "output_type": "stream",
     "text": [
      "/export/home/cse200093/.user_conda/miniconda/envs/Expe_Pheno/lib/python3.7/site-packages/ipykernel_launcher.py:10: UserWarning: To copy construct from a tensor, it is recommended to use sourceTensor.clone().detach() or sourceTensor.clone().detach().requires_grad_(True), rather than torch.tensor(sourceTensor).\n",
      "  # Remove the CWD from sys.path while we load stuff.\n",
      "100%|██████████| 775/775 [19:40<00:00,  1.52s/it]\n"
     ]
    },
    {
     "name": "stdout",
     "output_type": "stream",
     "text": [
      "Train Loss: 0.004693733084540431\n"
     ]
    },
    {
     "name": "stderr",
     "output_type": "stream",
     "text": [
      "/export/home/cse200093/.local/lib/python3.7/site-packages/sklearn/metrics/_classification.py:1248: UndefinedMetricWarning: Precision and F-score are ill-defined and being set to 0.0 in labels with no predicted samples. Use `zero_division` parameter to control this behavior.\n",
      "  _warn_prf(average, modifier, msg_start, len(result))\n",
      "/export/home/cse200093/.local/lib/python3.7/site-packages/sklearn/metrics/_classification.py:1248: UndefinedMetricWarning: Precision and F-score are ill-defined and being set to 0.0 in samples with no predicted labels. Use `zero_division` parameter to control this behavior.\n",
      "  _warn_prf(average, modifier, msg_start, len(result))\n"
     ]
    },
    {
     "name": "stdout",
     "output_type": "stream",
     "text": [
      "F1 Validation Accuracy: 0.5791610284167793      (with threshold 0.33)\n"
     ]
    },
    {
     "name": "stderr",
     "output_type": "stream",
     "text": [
      "  0%|          | 0/775 [00:00<?, ?it/s]"
     ]
    },
    {
     "name": "stdout",
     "output_type": "stream",
     "text": [
      "Best model so far... reset patience to 5\n",
      "Saved model 20220209T092729_expe_pheno_classifier_camembert_l_umls_fr_local after epoch 1\n",
      "EPOCH 2 / 50\n"
     ]
    },
    {
     "name": "stderr",
     "output_type": "stream",
     "text": [
      "/export/home/cse200093/.user_conda/miniconda/envs/Expe_Pheno/lib/python3.7/site-packages/ipykernel_launcher.py:10: UserWarning: To copy construct from a tensor, it is recommended to use sourceTensor.clone().detach() or sourceTensor.clone().detach().requires_grad_(True), rather than torch.tensor(sourceTensor).\n",
      "  # Remove the CWD from sys.path while we load stuff.\n",
      "100%|██████████| 775/775 [19:40<00:00,  1.52s/it]\n"
     ]
    },
    {
     "name": "stdout",
     "output_type": "stream",
     "text": [
      "Train Loss: 0.0037316963659194185\n"
     ]
    },
    {
     "name": "stderr",
     "output_type": "stream",
     "text": [
      "/export/home/cse200093/.local/lib/python3.7/site-packages/sklearn/metrics/_classification.py:1248: UndefinedMetricWarning: Precision and F-score are ill-defined and being set to 0.0 in labels with no predicted samples. Use `zero_division` parameter to control this behavior.\n",
      "  _warn_prf(average, modifier, msg_start, len(result))\n",
      "/export/home/cse200093/.local/lib/python3.7/site-packages/sklearn/metrics/_classification.py:1248: UndefinedMetricWarning: Precision and F-score are ill-defined and being set to 0.0 in samples with no predicted labels. Use `zero_division` parameter to control this behavior.\n",
      "  _warn_prf(average, modifier, msg_start, len(result))\n"
     ]
    },
    {
     "name": "stdout",
     "output_type": "stream",
     "text": [
      "F1 Validation Accuracy: 0.6754640530033401      (with threshold 0.33)\n"
     ]
    },
    {
     "name": "stderr",
     "output_type": "stream",
     "text": [
      "  0%|          | 0/775 [00:00<?, ?it/s]"
     ]
    },
    {
     "name": "stdout",
     "output_type": "stream",
     "text": [
      "Best model so far... reset patience to 5\n",
      "Saved model 20220209T092729_expe_pheno_classifier_camembert_l_umls_fr_local after epoch 2\n",
      "EPOCH 3 / 50\n"
     ]
    },
    {
     "name": "stderr",
     "output_type": "stream",
     "text": [
      "/export/home/cse200093/.user_conda/miniconda/envs/Expe_Pheno/lib/python3.7/site-packages/ipykernel_launcher.py:10: UserWarning: To copy construct from a tensor, it is recommended to use sourceTensor.clone().detach() or sourceTensor.clone().detach().requires_grad_(True), rather than torch.tensor(sourceTensor).\n",
      "  # Remove the CWD from sys.path while we load stuff.\n",
      "100%|██████████| 775/775 [19:40<00:00,  1.52s/it]\n"
     ]
    },
    {
     "name": "stdout",
     "output_type": "stream",
     "text": [
      "Train Loss: 0.0031141571657283605\n"
     ]
    },
    {
     "name": "stderr",
     "output_type": "stream",
     "text": [
      "/export/home/cse200093/.local/lib/python3.7/site-packages/sklearn/metrics/_classification.py:1248: UndefinedMetricWarning: Precision and F-score are ill-defined and being set to 0.0 in labels with no predicted samples. Use `zero_division` parameter to control this behavior.\n",
      "  _warn_prf(average, modifier, msg_start, len(result))\n",
      "/export/home/cse200093/.local/lib/python3.7/site-packages/sklearn/metrics/_classification.py:1248: UndefinedMetricWarning: Precision and F-score are ill-defined and being set to 0.0 in samples with no predicted labels. Use `zero_division` parameter to control this behavior.\n",
      "  _warn_prf(average, modifier, msg_start, len(result))\n"
     ]
    },
    {
     "name": "stdout",
     "output_type": "stream",
     "text": [
      "F1 Validation Accuracy: 0.6950826599059842      (with threshold 0.28)\n"
     ]
    },
    {
     "name": "stderr",
     "output_type": "stream",
     "text": [
      "  0%|          | 0/775 [00:00<?, ?it/s]"
     ]
    },
    {
     "name": "stdout",
     "output_type": "stream",
     "text": [
      "Best model so far... reset patience to 5\n",
      "Saved model 20220209T092729_expe_pheno_classifier_camembert_l_umls_fr_local after epoch 3\n",
      "EPOCH 4 / 50\n"
     ]
    },
    {
     "name": "stderr",
     "output_type": "stream",
     "text": [
      "/export/home/cse200093/.user_conda/miniconda/envs/Expe_Pheno/lib/python3.7/site-packages/ipykernel_launcher.py:10: UserWarning: To copy construct from a tensor, it is recommended to use sourceTensor.clone().detach() or sourceTensor.clone().detach().requires_grad_(True), rather than torch.tensor(sourceTensor).\n",
      "  # Remove the CWD from sys.path while we load stuff.\n",
      "100%|██████████| 775/775 [19:40<00:00,  1.52s/it]\n"
     ]
    },
    {
     "name": "stdout",
     "output_type": "stream",
     "text": [
      "Train Loss: 0.0026835007617085345\n"
     ]
    },
    {
     "name": "stderr",
     "output_type": "stream",
     "text": [
      "/export/home/cse200093/.local/lib/python3.7/site-packages/sklearn/metrics/_classification.py:1248: UndefinedMetricWarning: Precision and F-score are ill-defined and being set to 0.0 in labels with no predicted samples. Use `zero_division` parameter to control this behavior.\n",
      "  _warn_prf(average, modifier, msg_start, len(result))\n",
      "/export/home/cse200093/.local/lib/python3.7/site-packages/sklearn/metrics/_classification.py:1248: UndefinedMetricWarning: Precision and F-score are ill-defined and being set to 0.0 in samples with no predicted labels. Use `zero_division` parameter to control this behavior.\n",
      "  _warn_prf(average, modifier, msg_start, len(result))\n"
     ]
    },
    {
     "name": "stdout",
     "output_type": "stream",
     "text": [
      "F1 Validation Accuracy: 0.7293914544669832      (with threshold 0.33)\n"
     ]
    },
    {
     "name": "stderr",
     "output_type": "stream",
     "text": [
      "  0%|          | 0/775 [00:00<?, ?it/s]"
     ]
    },
    {
     "name": "stdout",
     "output_type": "stream",
     "text": [
      "Best model so far... reset patience to 5\n",
      "Saved model 20220209T092729_expe_pheno_classifier_camembert_l_umls_fr_local after epoch 4\n",
      "EPOCH 5 / 50\n"
     ]
    },
    {
     "name": "stderr",
     "output_type": "stream",
     "text": [
      "/export/home/cse200093/.user_conda/miniconda/envs/Expe_Pheno/lib/python3.7/site-packages/ipykernel_launcher.py:10: UserWarning: To copy construct from a tensor, it is recommended to use sourceTensor.clone().detach() or sourceTensor.clone().detach().requires_grad_(True), rather than torch.tensor(sourceTensor).\n",
      "  # Remove the CWD from sys.path while we load stuff.\n",
      "100%|██████████| 775/775 [19:45<00:00,  1.53s/it]\n"
     ]
    },
    {
     "name": "stdout",
     "output_type": "stream",
     "text": [
      "Train Loss: 0.0023120659163908333\n"
     ]
    },
    {
     "name": "stderr",
     "output_type": "stream",
     "text": [
      "/export/home/cse200093/.local/lib/python3.7/site-packages/sklearn/metrics/_classification.py:1248: UndefinedMetricWarning: Precision and F-score are ill-defined and being set to 0.0 in labels with no predicted samples. Use `zero_division` parameter to control this behavior.\n",
      "  _warn_prf(average, modifier, msg_start, len(result))\n",
      "/export/home/cse200093/.local/lib/python3.7/site-packages/sklearn/metrics/_classification.py:1248: UndefinedMetricWarning: Precision and F-score are ill-defined and being set to 0.0 in samples with no predicted labels. Use `zero_division` parameter to control this behavior.\n",
      "  _warn_prf(average, modifier, msg_start, len(result))\n"
     ]
    },
    {
     "name": "stdout",
     "output_type": "stream",
     "text": [
      "F1 Validation Accuracy: 0.7422988628476856      (with threshold 0.34)\n"
     ]
    },
    {
     "name": "stderr",
     "output_type": "stream",
     "text": [
      "  0%|          | 0/775 [00:00<?, ?it/s]"
     ]
    },
    {
     "name": "stdout",
     "output_type": "stream",
     "text": [
      "Best model so far... reset patience to 5\n",
      "Saved model 20220209T092729_expe_pheno_classifier_camembert_l_umls_fr_local after epoch 5\n",
      "EPOCH 6 / 50\n"
     ]
    },
    {
     "name": "stderr",
     "output_type": "stream",
     "text": [
      "/export/home/cse200093/.user_conda/miniconda/envs/Expe_Pheno/lib/python3.7/site-packages/ipykernel_launcher.py:10: UserWarning: To copy construct from a tensor, it is recommended to use sourceTensor.clone().detach() or sourceTensor.clone().detach().requires_grad_(True), rather than torch.tensor(sourceTensor).\n",
      "  # Remove the CWD from sys.path while we load stuff.\n",
      "100%|██████████| 775/775 [19:43<00:00,  1.53s/it]\n"
     ]
    },
    {
     "name": "stdout",
     "output_type": "stream",
     "text": [
      "Train Loss: 0.0020410095448524547\n"
     ]
    },
    {
     "name": "stderr",
     "output_type": "stream",
     "text": [
      "/export/home/cse200093/.local/lib/python3.7/site-packages/sklearn/metrics/_classification.py:1248: UndefinedMetricWarning: Precision and F-score are ill-defined and being set to 0.0 in labels with no predicted samples. Use `zero_division` parameter to control this behavior.\n",
      "  _warn_prf(average, modifier, msg_start, len(result))\n",
      "/export/home/cse200093/.local/lib/python3.7/site-packages/sklearn/metrics/_classification.py:1248: UndefinedMetricWarning: Precision and F-score are ill-defined and being set to 0.0 in samples with no predicted labels. Use `zero_division` parameter to control this behavior.\n",
      "  _warn_prf(average, modifier, msg_start, len(result))\n"
     ]
    },
    {
     "name": "stdout",
     "output_type": "stream",
     "text": [
      "F1 Validation Accuracy: 0.7576619273301738      (with threshold 0.4)\n"
     ]
    },
    {
     "name": "stderr",
     "output_type": "stream",
     "text": [
      "  0%|          | 0/775 [00:00<?, ?it/s]"
     ]
    },
    {
     "name": "stdout",
     "output_type": "stream",
     "text": [
      "Best model so far... reset patience to 5\n",
      "Saved model 20220209T092729_expe_pheno_classifier_camembert_l_umls_fr_local after epoch 6\n",
      "EPOCH 7 / 50\n"
     ]
    },
    {
     "name": "stderr",
     "output_type": "stream",
     "text": [
      "/export/home/cse200093/.user_conda/miniconda/envs/Expe_Pheno/lib/python3.7/site-packages/ipykernel_launcher.py:10: UserWarning: To copy construct from a tensor, it is recommended to use sourceTensor.clone().detach() or sourceTensor.clone().detach().requires_grad_(True), rather than torch.tensor(sourceTensor).\n",
      "  # Remove the CWD from sys.path while we load stuff.\n",
      "100%|██████████| 775/775 [19:40<00:00,  1.52s/it]\n"
     ]
    },
    {
     "name": "stdout",
     "output_type": "stream",
     "text": [
      "Train Loss: 0.0017890146706677768\n"
     ]
    },
    {
     "name": "stderr",
     "output_type": "stream",
     "text": [
      "/export/home/cse200093/.local/lib/python3.7/site-packages/sklearn/metrics/_classification.py:1248: UndefinedMetricWarning: Precision and F-score are ill-defined and being set to 0.0 in labels with no predicted samples. Use `zero_division` parameter to control this behavior.\n",
      "  _warn_prf(average, modifier, msg_start, len(result))\n",
      "/export/home/cse200093/.local/lib/python3.7/site-packages/sklearn/metrics/_classification.py:1248: UndefinedMetricWarning: Precision and F-score are ill-defined and being set to 0.0 in samples with no predicted labels. Use `zero_division` parameter to control this behavior.\n",
      "  _warn_prf(average, modifier, msg_start, len(result))\n"
     ]
    },
    {
     "name": "stdout",
     "output_type": "stream",
     "text": [
      "F1 Validation Accuracy: 0.7753608247422681      (with threshold 0.28)\n"
     ]
    },
    {
     "name": "stderr",
     "output_type": "stream",
     "text": [
      "  0%|          | 0/775 [00:00<?, ?it/s]"
     ]
    },
    {
     "name": "stdout",
     "output_type": "stream",
     "text": [
      "Best model so far... reset patience to 5\n",
      "Saved model 20220209T092729_expe_pheno_classifier_camembert_l_umls_fr_local after epoch 7\n",
      "EPOCH 8 / 50\n"
     ]
    },
    {
     "name": "stderr",
     "output_type": "stream",
     "text": [
      "/export/home/cse200093/.user_conda/miniconda/envs/Expe_Pheno/lib/python3.7/site-packages/ipykernel_launcher.py:10: UserWarning: To copy construct from a tensor, it is recommended to use sourceTensor.clone().detach() or sourceTensor.clone().detach().requires_grad_(True), rather than torch.tensor(sourceTensor).\n",
      "  # Remove the CWD from sys.path while we load stuff.\n",
      "100%|██████████| 775/775 [19:42<00:00,  1.53s/it]\n"
     ]
    },
    {
     "name": "stdout",
     "output_type": "stream",
     "text": [
      "Train Loss: 0.0015505035755809533\n"
     ]
    },
    {
     "name": "stderr",
     "output_type": "stream",
     "text": [
      "/export/home/cse200093/.local/lib/python3.7/site-packages/sklearn/metrics/_classification.py:1248: UndefinedMetricWarning: Precision and F-score are ill-defined and being set to 0.0 in labels with no predicted samples. Use `zero_division` parameter to control this behavior.\n",
      "  _warn_prf(average, modifier, msg_start, len(result))\n",
      "/export/home/cse200093/.local/lib/python3.7/site-packages/sklearn/metrics/_classification.py:1248: UndefinedMetricWarning: Precision and F-score are ill-defined and being set to 0.0 in samples with no predicted labels. Use `zero_division` parameter to control this behavior.\n",
      "  _warn_prf(average, modifier, msg_start, len(result))\n"
     ]
    },
    {
     "name": "stdout",
     "output_type": "stream",
     "text": [
      "F1 Validation Accuracy: 0.7901695442526054      (with threshold 0.32)\n"
     ]
    },
    {
     "name": "stderr",
     "output_type": "stream",
     "text": [
      "  0%|          | 0/775 [00:00<?, ?it/s]"
     ]
    },
    {
     "name": "stdout",
     "output_type": "stream",
     "text": [
      "Best model so far... reset patience to 5\n",
      "Saved model 20220209T092729_expe_pheno_classifier_camembert_l_umls_fr_local after epoch 8\n",
      "EPOCH 9 / 50\n"
     ]
    },
    {
     "name": "stderr",
     "output_type": "stream",
     "text": [
      "/export/home/cse200093/.user_conda/miniconda/envs/Expe_Pheno/lib/python3.7/site-packages/ipykernel_launcher.py:10: UserWarning: To copy construct from a tensor, it is recommended to use sourceTensor.clone().detach() or sourceTensor.clone().detach().requires_grad_(True), rather than torch.tensor(sourceTensor).\n",
      "  # Remove the CWD from sys.path while we load stuff.\n",
      "100%|██████████| 775/775 [19:35<00:00,  1.52s/it]\n"
     ]
    },
    {
     "name": "stdout",
     "output_type": "stream",
     "text": [
      "Train Loss: 0.0013842995962749726\n"
     ]
    },
    {
     "name": "stderr",
     "output_type": "stream",
     "text": [
      "/export/home/cse200093/.local/lib/python3.7/site-packages/sklearn/metrics/_classification.py:1248: UndefinedMetricWarning: Precision and F-score are ill-defined and being set to 0.0 in labels with no predicted samples. Use `zero_division` parameter to control this behavior.\n",
      "  _warn_prf(average, modifier, msg_start, len(result))\n",
      "/export/home/cse200093/.local/lib/python3.7/site-packages/sklearn/metrics/_classification.py:1248: UndefinedMetricWarning: Precision and F-score are ill-defined and being set to 0.0 in samples with no predicted labels. Use `zero_division` parameter to control this behavior.\n",
      "  _warn_prf(average, modifier, msg_start, len(result))\n"
     ]
    },
    {
     "name": "stdout",
     "output_type": "stream",
     "text": [
      "F1 Validation Accuracy: 0.7947804213394822      (with threshold 0.39)\n"
     ]
    },
    {
     "name": "stderr",
     "output_type": "stream",
     "text": [
      "  0%|          | 0/775 [00:00<?, ?it/s]"
     ]
    },
    {
     "name": "stdout",
     "output_type": "stream",
     "text": [
      "Best model so far... reset patience to 5\n",
      "Saved model 20220209T092729_expe_pheno_classifier_camembert_l_umls_fr_local after epoch 9\n",
      "EPOCH 10 / 50\n"
     ]
    },
    {
     "name": "stderr",
     "output_type": "stream",
     "text": [
      "/export/home/cse200093/.user_conda/miniconda/envs/Expe_Pheno/lib/python3.7/site-packages/ipykernel_launcher.py:10: UserWarning: To copy construct from a tensor, it is recommended to use sourceTensor.clone().detach() or sourceTensor.clone().detach().requires_grad_(True), rather than torch.tensor(sourceTensor).\n",
      "  # Remove the CWD from sys.path while we load stuff.\n",
      "100%|██████████| 775/775 [19:37<00:00,  1.52s/it]\n"
     ]
    },
    {
     "name": "stdout",
     "output_type": "stream",
     "text": [
      "Train Loss: 0.001245468222962126\n"
     ]
    },
    {
     "name": "stderr",
     "output_type": "stream",
     "text": [
      "/export/home/cse200093/.local/lib/python3.7/site-packages/sklearn/metrics/_classification.py:1248: UndefinedMetricWarning: Precision and F-score are ill-defined and being set to 0.0 in labels with no predicted samples. Use `zero_division` parameter to control this behavior.\n",
      "  _warn_prf(average, modifier, msg_start, len(result))\n",
      "/export/home/cse200093/.local/lib/python3.7/site-packages/sklearn/metrics/_classification.py:1248: UndefinedMetricWarning: Precision and F-score are ill-defined and being set to 0.0 in samples with no predicted labels. Use `zero_division` parameter to control this behavior.\n",
      "  _warn_prf(average, modifier, msg_start, len(result))\n"
     ]
    },
    {
     "name": "stdout",
     "output_type": "stream",
     "text": [
      "F1 Validation Accuracy: 0.8036091177712115      (with threshold 0.4)\n"
     ]
    },
    {
     "name": "stderr",
     "output_type": "stream",
     "text": [
      "  0%|          | 0/775 [00:00<?, ?it/s]"
     ]
    },
    {
     "name": "stdout",
     "output_type": "stream",
     "text": [
      "Best model so far... reset patience to 5\n",
      "Saved model 20220209T092729_expe_pheno_classifier_camembert_l_umls_fr_local after epoch 10\n",
      "EPOCH 11 / 50\n"
     ]
    },
    {
     "name": "stderr",
     "output_type": "stream",
     "text": [
      "/export/home/cse200093/.user_conda/miniconda/envs/Expe_Pheno/lib/python3.7/site-packages/ipykernel_launcher.py:10: UserWarning: To copy construct from a tensor, it is recommended to use sourceTensor.clone().detach() or sourceTensor.clone().detach().requires_grad_(True), rather than torch.tensor(sourceTensor).\n",
      "  # Remove the CWD from sys.path while we load stuff.\n",
      "100%|██████████| 775/775 [19:40<00:00,  1.52s/it]\n"
     ]
    },
    {
     "name": "stdout",
     "output_type": "stream",
     "text": [
      "Train Loss: 0.0011190374642553432\n"
     ]
    },
    {
     "name": "stderr",
     "output_type": "stream",
     "text": [
      "/export/home/cse200093/.local/lib/python3.7/site-packages/sklearn/metrics/_classification.py:1248: UndefinedMetricWarning: Precision and F-score are ill-defined and being set to 0.0 in labels with no predicted samples. Use `zero_division` parameter to control this behavior.\n",
      "  _warn_prf(average, modifier, msg_start, len(result))\n",
      "/export/home/cse200093/.local/lib/python3.7/site-packages/sklearn/metrics/_classification.py:1248: UndefinedMetricWarning: Precision and F-score are ill-defined and being set to 0.0 in samples with no predicted labels. Use `zero_division` parameter to control this behavior.\n",
      "  _warn_prf(average, modifier, msg_start, len(result))\n"
     ]
    },
    {
     "name": "stdout",
     "output_type": "stream",
     "text": [
      "F1 Validation Accuracy: 0.8086298101856655      (with threshold 0.28)\n"
     ]
    },
    {
     "name": "stderr",
     "output_type": "stream",
     "text": [
      "  0%|          | 0/775 [00:00<?, ?it/s]"
     ]
    },
    {
     "name": "stdout",
     "output_type": "stream",
     "text": [
      "Best model so far... reset patience to 5\n",
      "Saved model 20220209T092729_expe_pheno_classifier_camembert_l_umls_fr_local after epoch 11\n",
      "EPOCH 12 / 50\n"
     ]
    },
    {
     "name": "stderr",
     "output_type": "stream",
     "text": [
      "/export/home/cse200093/.user_conda/miniconda/envs/Expe_Pheno/lib/python3.7/site-packages/ipykernel_launcher.py:10: UserWarning: To copy construct from a tensor, it is recommended to use sourceTensor.clone().detach() or sourceTensor.clone().detach().requires_grad_(True), rather than torch.tensor(sourceTensor).\n",
      "  # Remove the CWD from sys.path while we load stuff.\n",
      "100%|██████████| 775/775 [19:38<00:00,  1.52s/it]\n"
     ]
    },
    {
     "name": "stdout",
     "output_type": "stream",
     "text": [
      "Train Loss: 0.0009901169982869263\n"
     ]
    },
    {
     "name": "stderr",
     "output_type": "stream",
     "text": [
      "/export/home/cse200093/.local/lib/python3.7/site-packages/sklearn/metrics/_classification.py:1248: UndefinedMetricWarning: Precision and F-score are ill-defined and being set to 0.0 in labels with no predicted samples. Use `zero_division` parameter to control this behavior.\n",
      "  _warn_prf(average, modifier, msg_start, len(result))\n",
      "/export/home/cse200093/.local/lib/python3.7/site-packages/sklearn/metrics/_classification.py:1248: UndefinedMetricWarning: Precision and F-score are ill-defined and being set to 0.0 in samples with no predicted labels. Use `zero_division` parameter to control this behavior.\n",
      "  _warn_prf(average, modifier, msg_start, len(result))\n"
     ]
    },
    {
     "name": "stdout",
     "output_type": "stream",
     "text": [
      "F1 Validation Accuracy: 0.8117159149818559      (with threshold 0.35)\n"
     ]
    },
    {
     "name": "stderr",
     "output_type": "stream",
     "text": [
      "  0%|          | 0/775 [00:00<?, ?it/s]"
     ]
    },
    {
     "name": "stdout",
     "output_type": "stream",
     "text": [
      "Best model so far... reset patience to 5\n",
      "Saved model 20220209T092729_expe_pheno_classifier_camembert_l_umls_fr_local after epoch 12\n",
      "EPOCH 13 / 50\n"
     ]
    },
    {
     "name": "stderr",
     "output_type": "stream",
     "text": [
      "/export/home/cse200093/.user_conda/miniconda/envs/Expe_Pheno/lib/python3.7/site-packages/ipykernel_launcher.py:10: UserWarning: To copy construct from a tensor, it is recommended to use sourceTensor.clone().detach() or sourceTensor.clone().detach().requires_grad_(True), rather than torch.tensor(sourceTensor).\n",
      "  # Remove the CWD from sys.path while we load stuff.\n",
      "100%|██████████| 775/775 [19:42<00:00,  1.53s/it]\n"
     ]
    },
    {
     "name": "stdout",
     "output_type": "stream",
     "text": [
      "Train Loss: 0.0009188268442197508\n"
     ]
    },
    {
     "name": "stderr",
     "output_type": "stream",
     "text": [
      "/export/home/cse200093/.local/lib/python3.7/site-packages/sklearn/metrics/_classification.py:1248: UndefinedMetricWarning: Precision and F-score are ill-defined and being set to 0.0 in labels with no predicted samples. Use `zero_division` parameter to control this behavior.\n",
      "  _warn_prf(average, modifier, msg_start, len(result))\n",
      "/export/home/cse200093/.local/lib/python3.7/site-packages/sklearn/metrics/_classification.py:1248: UndefinedMetricWarning: Precision and F-score are ill-defined and being set to 0.0 in samples with no predicted labels. Use `zero_division` parameter to control this behavior.\n",
      "  _warn_prf(average, modifier, msg_start, len(result))\n"
     ]
    },
    {
     "name": "stdout",
     "output_type": "stream",
     "text": [
      "F1 Validation Accuracy: 0.8205495573862764      (with threshold 0.29)\n"
     ]
    },
    {
     "name": "stderr",
     "output_type": "stream",
     "text": [
      "  0%|          | 0/775 [00:00<?, ?it/s]"
     ]
    },
    {
     "name": "stdout",
     "output_type": "stream",
     "text": [
      "Best model so far... reset patience to 5\n",
      "Saved model 20220209T092729_expe_pheno_classifier_camembert_l_umls_fr_local after epoch 13\n",
      "EPOCH 14 / 50\n"
     ]
    },
    {
     "name": "stderr",
     "output_type": "stream",
     "text": [
      "/export/home/cse200093/.user_conda/miniconda/envs/Expe_Pheno/lib/python3.7/site-packages/ipykernel_launcher.py:10: UserWarning: To copy construct from a tensor, it is recommended to use sourceTensor.clone().detach() or sourceTensor.clone().detach().requires_grad_(True), rather than torch.tensor(sourceTensor).\n",
      "  # Remove the CWD from sys.path while we load stuff.\n",
      "100%|██████████| 775/775 [19:42<00:00,  1.53s/it]\n"
     ]
    },
    {
     "name": "stdout",
     "output_type": "stream",
     "text": [
      "Train Loss: 0.0008194571605350237\n"
     ]
    },
    {
     "name": "stderr",
     "output_type": "stream",
     "text": [
      "/export/home/cse200093/.local/lib/python3.7/site-packages/sklearn/metrics/_classification.py:1248: UndefinedMetricWarning: Precision and F-score are ill-defined and being set to 0.0 in labels with no predicted samples. Use `zero_division` parameter to control this behavior.\n",
      "  _warn_prf(average, modifier, msg_start, len(result))\n",
      "/export/home/cse200093/.local/lib/python3.7/site-packages/sklearn/metrics/_classification.py:1248: UndefinedMetricWarning: Precision and F-score are ill-defined and being set to 0.0 in samples with no predicted labels. Use `zero_division` parameter to control this behavior.\n",
      "  _warn_prf(average, modifier, msg_start, len(result))\n"
     ]
    },
    {
     "name": "stdout",
     "output_type": "stream",
     "text": [
      "F1 Validation Accuracy: 0.8227254181966545      (with threshold 0.28)\n"
     ]
    },
    {
     "name": "stderr",
     "output_type": "stream",
     "text": [
      "  0%|          | 0/775 [00:00<?, ?it/s]"
     ]
    },
    {
     "name": "stdout",
     "output_type": "stream",
     "text": [
      "Best model so far... reset patience to 5\n",
      "Saved model 20220209T092729_expe_pheno_classifier_camembert_l_umls_fr_local after epoch 14\n",
      "EPOCH 15 / 50\n"
     ]
    },
    {
     "name": "stderr",
     "output_type": "stream",
     "text": [
      "/export/home/cse200093/.user_conda/miniconda/envs/Expe_Pheno/lib/python3.7/site-packages/ipykernel_launcher.py:10: UserWarning: To copy construct from a tensor, it is recommended to use sourceTensor.clone().detach() or sourceTensor.clone().detach().requires_grad_(True), rather than torch.tensor(sourceTensor).\n",
      "  # Remove the CWD from sys.path while we load stuff.\n",
      "100%|██████████| 775/775 [19:39<00:00,  1.52s/it]\n"
     ]
    },
    {
     "name": "stdout",
     "output_type": "stream",
     "text": [
      "Train Loss: 0.0007418799964113436\n"
     ]
    },
    {
     "name": "stderr",
     "output_type": "stream",
     "text": [
      "/export/home/cse200093/.local/lib/python3.7/site-packages/sklearn/metrics/_classification.py:1248: UndefinedMetricWarning: Precision and F-score are ill-defined and being set to 0.0 in labels with no predicted samples. Use `zero_division` parameter to control this behavior.\n",
      "  _warn_prf(average, modifier, msg_start, len(result))\n",
      "/export/home/cse200093/.local/lib/python3.7/site-packages/sklearn/metrics/_classification.py:1248: UndefinedMetricWarning: Precision and F-score are ill-defined and being set to 0.0 in samples with no predicted labels. Use `zero_division` parameter to control this behavior.\n",
      "  _warn_prf(average, modifier, msg_start, len(result))\n"
     ]
    },
    {
     "name": "stdout",
     "output_type": "stream",
     "text": [
      "F1 Validation Accuracy: 0.8234036052551176      (with threshold 0.28)\n"
     ]
    },
    {
     "name": "stderr",
     "output_type": "stream",
     "text": [
      "  0%|          | 0/775 [00:00<?, ?it/s]"
     ]
    },
    {
     "name": "stdout",
     "output_type": "stream",
     "text": [
      "Best model so far... reset patience to 5\n",
      "Saved model 20220209T092729_expe_pheno_classifier_camembert_l_umls_fr_local after epoch 15\n",
      "EPOCH 16 / 50\n"
     ]
    },
    {
     "name": "stderr",
     "output_type": "stream",
     "text": [
      "/export/home/cse200093/.user_conda/miniconda/envs/Expe_Pheno/lib/python3.7/site-packages/ipykernel_launcher.py:10: UserWarning: To copy construct from a tensor, it is recommended to use sourceTensor.clone().detach() or sourceTensor.clone().detach().requires_grad_(True), rather than torch.tensor(sourceTensor).\n",
      "  # Remove the CWD from sys.path while we load stuff.\n",
      "100%|██████████| 775/775 [19:38<00:00,  1.52s/it]\n"
     ]
    },
    {
     "name": "stdout",
     "output_type": "stream",
     "text": [
      "Train Loss: 0.0006766601433062697\n"
     ]
    },
    {
     "name": "stderr",
     "output_type": "stream",
     "text": [
      "/export/home/cse200093/.local/lib/python3.7/site-packages/sklearn/metrics/_classification.py:1248: UndefinedMetricWarning: Precision and F-score are ill-defined and being set to 0.0 in labels with no predicted samples. Use `zero_division` parameter to control this behavior.\n",
      "  _warn_prf(average, modifier, msg_start, len(result))\n",
      "/export/home/cse200093/.local/lib/python3.7/site-packages/sklearn/metrics/_classification.py:1248: UndefinedMetricWarning: Precision and F-score are ill-defined and being set to 0.0 in samples with no predicted labels. Use `zero_division` parameter to control this behavior.\n",
      "  _warn_prf(average, modifier, msg_start, len(result))\n"
     ]
    },
    {
     "name": "stdout",
     "output_type": "stream",
     "text": [
      "F1 Validation Accuracy: 0.8306305372778613      (with threshold 0.37)\n"
     ]
    },
    {
     "name": "stderr",
     "output_type": "stream",
     "text": [
      "  0%|          | 0/775 [00:00<?, ?it/s]"
     ]
    },
    {
     "name": "stdout",
     "output_type": "stream",
     "text": [
      "Best model so far... reset patience to 5\n",
      "Saved model 20220209T092729_expe_pheno_classifier_camembert_l_umls_fr_local after epoch 16\n",
      "EPOCH 17 / 50\n"
     ]
    },
    {
     "name": "stderr",
     "output_type": "stream",
     "text": [
      "/export/home/cse200093/.user_conda/miniconda/envs/Expe_Pheno/lib/python3.7/site-packages/ipykernel_launcher.py:10: UserWarning: To copy construct from a tensor, it is recommended to use sourceTensor.clone().detach() or sourceTensor.clone().detach().requires_grad_(True), rather than torch.tensor(sourceTensor).\n",
      "  # Remove the CWD from sys.path while we load stuff.\n",
      "100%|██████████| 775/775 [19:44<00:00,  1.53s/it]\n"
     ]
    },
    {
     "name": "stdout",
     "output_type": "stream",
     "text": [
      "Train Loss: 0.0006307441741378414\n"
     ]
    },
    {
     "name": "stderr",
     "output_type": "stream",
     "text": [
      "/export/home/cse200093/.local/lib/python3.7/site-packages/sklearn/metrics/_classification.py:1248: UndefinedMetricWarning: Precision and F-score are ill-defined and being set to 0.0 in labels with no predicted samples. Use `zero_division` parameter to control this behavior.\n",
      "  _warn_prf(average, modifier, msg_start, len(result))\n",
      "/export/home/cse200093/.local/lib/python3.7/site-packages/sklearn/metrics/_classification.py:1248: UndefinedMetricWarning: Precision and F-score are ill-defined and being set to 0.0 in samples with no predicted labels. Use `zero_division` parameter to control this behavior.\n",
      "  _warn_prf(average, modifier, msg_start, len(result))\n"
     ]
    },
    {
     "name": "stdout",
     "output_type": "stream",
     "text": [
      "F1 Validation Accuracy: 0.8354153653966271      (with threshold 0.41)\n"
     ]
    },
    {
     "name": "stderr",
     "output_type": "stream",
     "text": [
      "  0%|          | 0/775 [00:00<?, ?it/s]"
     ]
    },
    {
     "name": "stdout",
     "output_type": "stream",
     "text": [
      "Best model so far... reset patience to 5\n",
      "Saved model 20220209T092729_expe_pheno_classifier_camembert_l_umls_fr_local after epoch 17\n",
      "EPOCH 18 / 50\n"
     ]
    },
    {
     "name": "stderr",
     "output_type": "stream",
     "text": [
      "/export/home/cse200093/.user_conda/miniconda/envs/Expe_Pheno/lib/python3.7/site-packages/ipykernel_launcher.py:10: UserWarning: To copy construct from a tensor, it is recommended to use sourceTensor.clone().detach() or sourceTensor.clone().detach().requires_grad_(True), rather than torch.tensor(sourceTensor).\n",
      "  # Remove the CWD from sys.path while we load stuff.\n",
      "100%|██████████| 775/775 [19:43<00:00,  1.53s/it]\n"
     ]
    },
    {
     "name": "stdout",
     "output_type": "stream",
     "text": [
      "Train Loss: 0.0005792416808977928\n"
     ]
    },
    {
     "name": "stderr",
     "output_type": "stream",
     "text": [
      "/export/home/cse200093/.local/lib/python3.7/site-packages/sklearn/metrics/_classification.py:1248: UndefinedMetricWarning: Precision and F-score are ill-defined and being set to 0.0 in labels with no predicted samples. Use `zero_division` parameter to control this behavior.\n",
      "  _warn_prf(average, modifier, msg_start, len(result))\n",
      "/export/home/cse200093/.local/lib/python3.7/site-packages/sklearn/metrics/_classification.py:1248: UndefinedMetricWarning: Precision and F-score are ill-defined and being set to 0.0 in samples with no predicted labels. Use `zero_division` parameter to control this behavior.\n",
      "  _warn_prf(average, modifier, msg_start, len(result))\n",
      "  0%|          | 0/775 [00:00<?, ?it/s]/export/home/cse200093/.user_conda/miniconda/envs/Expe_Pheno/lib/python3.7/site-packages/ipykernel_launcher.py:10: UserWarning: To copy construct from a tensor, it is recommended to use sourceTensor.clone().detach() or sourceTensor.clone().detach().requires_grad_(True), rather than torch.tensor(sourceTensor).\n",
      "  # Remove the CWD from sys.path while we load stuff.\n"
     ]
    },
    {
     "name": "stdout",
     "output_type": "stream",
     "text": [
      "F1 Validation Accuracy: 0.833273130708499      (with threshold 0.44)\n",
      "Not the best model, decreasing patience to 4\n",
      "EPOCH 19 / 50\n"
     ]
    },
    {
     "name": "stderr",
     "output_type": "stream",
     "text": [
      "100%|██████████| 775/775 [19:42<00:00,  1.53s/it]\n"
     ]
    },
    {
     "name": "stdout",
     "output_type": "stream",
     "text": [
      "Train Loss: 0.0005429209921472351\n"
     ]
    },
    {
     "name": "stderr",
     "output_type": "stream",
     "text": [
      "/export/home/cse200093/.local/lib/python3.7/site-packages/sklearn/metrics/_classification.py:1248: UndefinedMetricWarning: Precision and F-score are ill-defined and being set to 0.0 in labels with no predicted samples. Use `zero_division` parameter to control this behavior.\n",
      "  _warn_prf(average, modifier, msg_start, len(result))\n",
      "/export/home/cse200093/.local/lib/python3.7/site-packages/sklearn/metrics/_classification.py:1248: UndefinedMetricWarning: Precision and F-score are ill-defined and being set to 0.0 in samples with no predicted labels. Use `zero_division` parameter to control this behavior.\n",
      "  _warn_prf(average, modifier, msg_start, len(result))\n"
     ]
    },
    {
     "name": "stdout",
     "output_type": "stream",
     "text": [
      "F1 Validation Accuracy: 0.8359442771852835      (with threshold 0.31)\n"
     ]
    },
    {
     "name": "stderr",
     "output_type": "stream",
     "text": [
      "  0%|          | 0/775 [00:00<?, ?it/s]"
     ]
    },
    {
     "name": "stdout",
     "output_type": "stream",
     "text": [
      "Best model so far... reset patience to 5\n",
      "Saved model 20220209T092729_expe_pheno_classifier_camembert_l_umls_fr_local after epoch 19\n",
      "EPOCH 20 / 50\n"
     ]
    },
    {
     "name": "stderr",
     "output_type": "stream",
     "text": [
      "/export/home/cse200093/.user_conda/miniconda/envs/Expe_Pheno/lib/python3.7/site-packages/ipykernel_launcher.py:10: UserWarning: To copy construct from a tensor, it is recommended to use sourceTensor.clone().detach() or sourceTensor.clone().detach().requires_grad_(True), rather than torch.tensor(sourceTensor).\n",
      "  # Remove the CWD from sys.path while we load stuff.\n",
      "100%|██████████| 775/775 [19:42<00:00,  1.53s/it]\n"
     ]
    },
    {
     "name": "stdout",
     "output_type": "stream",
     "text": [
      "Train Loss: 0.00047815492079972624\n"
     ]
    },
    {
     "name": "stderr",
     "output_type": "stream",
     "text": [
      "/export/home/cse200093/.local/lib/python3.7/site-packages/sklearn/metrics/_classification.py:1248: UndefinedMetricWarning: Precision and F-score are ill-defined and being set to 0.0 in labels with no predicted samples. Use `zero_division` parameter to control this behavior.\n",
      "  _warn_prf(average, modifier, msg_start, len(result))\n",
      "/export/home/cse200093/.local/lib/python3.7/site-packages/sklearn/metrics/_classification.py:1248: UndefinedMetricWarning: Precision and F-score are ill-defined and being set to 0.0 in samples with no predicted labels. Use `zero_division` parameter to control this behavior.\n",
      "  _warn_prf(average, modifier, msg_start, len(result))\n"
     ]
    },
    {
     "name": "stdout",
     "output_type": "stream",
     "text": [
      "F1 Validation Accuracy: 0.836577077540933      (with threshold 0.32)\n"
     ]
    },
    {
     "name": "stderr",
     "output_type": "stream",
     "text": [
      "  0%|          | 0/775 [00:00<?, ?it/s]"
     ]
    },
    {
     "name": "stdout",
     "output_type": "stream",
     "text": [
      "Best model so far... reset patience to 5\n",
      "Saved model 20220209T092729_expe_pheno_classifier_camembert_l_umls_fr_local after epoch 20\n",
      "EPOCH 21 / 50\n"
     ]
    },
    {
     "name": "stderr",
     "output_type": "stream",
     "text": [
      "/export/home/cse200093/.user_conda/miniconda/envs/Expe_Pheno/lib/python3.7/site-packages/ipykernel_launcher.py:10: UserWarning: To copy construct from a tensor, it is recommended to use sourceTensor.clone().detach() or sourceTensor.clone().detach().requires_grad_(True), rather than torch.tensor(sourceTensor).\n",
      "  # Remove the CWD from sys.path while we load stuff.\n",
      "100%|██████████| 775/775 [19:41<00:00,  1.53s/it]\n"
     ]
    },
    {
     "name": "stdout",
     "output_type": "stream",
     "text": [
      "Train Loss: 0.0004610894356864481\n"
     ]
    },
    {
     "name": "stderr",
     "output_type": "stream",
     "text": [
      "/export/home/cse200093/.local/lib/python3.7/site-packages/sklearn/metrics/_classification.py:1248: UndefinedMetricWarning: Precision and F-score are ill-defined and being set to 0.0 in labels with no predicted samples. Use `zero_division` parameter to control this behavior.\n",
      "  _warn_prf(average, modifier, msg_start, len(result))\n",
      "/export/home/cse200093/.local/lib/python3.7/site-packages/sklearn/metrics/_classification.py:1248: UndefinedMetricWarning: Precision and F-score are ill-defined and being set to 0.0 in samples with no predicted labels. Use `zero_division` parameter to control this behavior.\n",
      "  _warn_prf(average, modifier, msg_start, len(result))\n"
     ]
    },
    {
     "name": "stdout",
     "output_type": "stream",
     "text": [
      "F1 Validation Accuracy: 0.8381725888324872      (with threshold 0.23)\n"
     ]
    },
    {
     "name": "stderr",
     "output_type": "stream",
     "text": [
      "  0%|          | 0/775 [00:00<?, ?it/s]"
     ]
    },
    {
     "name": "stdout",
     "output_type": "stream",
     "text": [
      "Best model so far... reset patience to 5\n",
      "Saved model 20220209T092729_expe_pheno_classifier_camembert_l_umls_fr_local after epoch 21\n",
      "EPOCH 22 / 50\n"
     ]
    },
    {
     "name": "stderr",
     "output_type": "stream",
     "text": [
      "/export/home/cse200093/.user_conda/miniconda/envs/Expe_Pheno/lib/python3.7/site-packages/ipykernel_launcher.py:10: UserWarning: To copy construct from a tensor, it is recommended to use sourceTensor.clone().detach() or sourceTensor.clone().detach().requires_grad_(True), rather than torch.tensor(sourceTensor).\n",
      "  # Remove the CWD from sys.path while we load stuff.\n",
      "  8%|▊         | 61/775 [01:32<18:06,  1.52s/it]"
     ]
    }
   ],
   "source": [
    "\n",
    "device = torch.device('cuda') if torch.cuda.is_available() else torch.device('cpu')\n",
    "PATIENCE = 5\n",
    "left_patience = PATIENCE\n",
    "best_value = 0\n",
    "best_epoch = 0\n",
    "\n",
    "now = datetime.now().strftime('%Y%m%dT%H%M%S')\n",
    "model_name = now + '_' + run_name\n",
    "\n",
    "print('device', device)\n",
    "\n",
    "if 'camembert' in bert_name.lower():\n",
    "    model = CamembertForSequenceClassification.from_pretrained(bert_name, num_labels = num_labels)\n",
    "else:\n",
    "    model = BertForSequenceClassification.from_pretrained(bert_name, num_labels=num_labels)\n",
    "\n",
    "model.to(device)\n",
    "pos_weights = pos_weights.to(device)\n",
    "\n",
    "# define the parameters \n",
    "no_decay = ['bias', 'LayerNorm.weight']\n",
    "optimizer_grouped_parameters = [\n",
    "    {'params': [p for n, p in model.named_parameters() if not any(nd in n for nd in no_decay)], 'weight_decay': 0.01},\n",
    "    {'params': [p for n, p in model.named_parameters() if any(nd in n for nd in no_decay)], 'weight_decay': 0.0}\n",
    "]\n",
    "optim = AdamW(optimizer_grouped_parameters, lr=1e-5, correct_bias=True)\n",
    "\n",
    "for epoch in range(max_epochs):\n",
    "    ### training step \n",
    "    print(f'EPOCH {epoch} / {max_epochs}')\n",
    "    model.train()\n",
    "    tr_loss = 0\n",
    "    nb_tr_examples, nb_tr_steps = 0, 0  \n",
    "    for _, batch in enumerate(tqdm(train_loader)):\n",
    "        optim.zero_grad()\n",
    "        input_ids = batch['input_ids'].to(device)\n",
    "        attention_mask = batch['attention_mask'].to(device)\n",
    "        labels = batch['labels'].to(device)\n",
    "        assert labels.shape[1:] == (num_labels, ), labels.shape\n",
    "        outputs = model(input_ids, token_type_ids=None, attention_mask=attention_mask)\n",
    "        #Calculate the loss between multilabel predicted outputs and actuals\n",
    "        logits = outputs[0]\n",
    "        assert logits.shape[1:] == (num_labels, ), logits.shape\n",
    "        loss_func = BCEWithLogitsLoss(pos_weight=pos_weights) \n",
    "        loss = loss_func(logits, labels.type_as(logits)) #convert labels to float for calculation\n",
    "        # loss = loss_func(outputs.logits, labels.type_as(outputs.logits))\n",
    "        # loss = outputs[0]\n",
    "        loss.backward()\n",
    "        optim.step()\n",
    "        \n",
    "        tr_loss += loss.item()\n",
    "        nb_tr_examples += input_ids.size(0)\n",
    "        nb_tr_steps += 1\n",
    "        \n",
    "    #Print the current training loss \n",
    "    print(\"Train Loss: {}\".format(tr_loss/nb_tr_examples))\n",
    "    \n",
    "    \n",
    "    # PREDICT : \n",
    "    model.eval()\n",
    "    # Variables to gather full output\n",
    "    logit_preds,true_labels,pred_labels_1,tokenized_texts = [],[],[],[]\n",
    "    \n",
    "    for batch in val_loader:\n",
    "        input_ids = batch['input_ids'].to(device)\n",
    "        attention_mask = batch['attention_mask'].to(device)\n",
    "        labels = batch['labels'].to(device)\n",
    "        with torch.no_grad():\n",
    "            outs = model(input_ids, token_type_ids=None, attention_mask=attention_mask)\n",
    "            logit_pred = outs[0]\n",
    "            pred_label = torch.sigmoid(logit_pred)\n",
    "            logit_pred = logit_pred.detach().cpu().numpy()\n",
    "            pred_label = pred_label.to('cpu').numpy()\n",
    "            labels = labels.to('cpu').numpy()\n",
    "            tokenized_texts.append(input_ids)\n",
    "            logit_preds.append(logit_pred)\n",
    "            true_labels.append(labels)\n",
    "            pred_labels_1.append(pred_label)\n",
    "    \n",
    "    # Flatten outputs\n",
    "    pred_labels = [item for sublist in pred_labels_1 for item in sublist]\n",
    "    true_labels = [item for sublist in true_labels for item in sublist]\n",
    "    true_bools = [tl==1 for tl in true_labels]\n",
    "    \n",
    "    # Calculate Accuracy\n",
    "    #threshold = 0.5\n",
    "    #pred_bools = [pl>threshold for pl in pred_labels]\n",
    "    #val_f1 = f1_score(true_bools,pred_bools,average='micro')*100\n",
    "    #best_thresholds = [threshold]\n",
    "\n",
    "    best_thresholds, val_f1, _ = get_best_threshold(pred_labels, true_bools, threshold_mode)\n",
    "    check_val_value = val_f1\n",
    "\n",
    "    print('F1 Validation Accuracy: {}      (with threshold {})'.format(val_f1, best_thresholds[0] if len(set(best_thresholds)) == 1 else best_thresholds))\n",
    "    #print('Flat Validation Accuracy: ', val_flat_accuracy)\n",
    "    # New best epoch\n",
    "    if check_val_value > best_value:\n",
    "        best_value = check_val_value\n",
    "        left_patience = PATIENCE\n",
    "        # saving the model \n",
    "        model.save_pretrained(model_name+ '_best')\n",
    "        print(f'Best model so far... reset patience to {left_patience}')\n",
    "        print(f'Saved model {model_name} after epoch {epoch}')\n",
    "        best_epoch = epoch\n",
    "    # Still stuck at 0 at the beginning? Be more patient\n",
    "    elif best_value == 0 and epoch < 5:\n",
    "        print('Still the beginning, give it some time...')\n",
    "    # Not best epoch\n",
    "    else:\n",
    "        left_patience -= 1\n",
    "        print(f'Not the best model, decreasing patience to {left_patience}')\n",
    "    if left_patience == 0:\n",
    "        print(f'Out of patience, break after epoch {epoch}')\n",
    "        break\n",
    "    \n",
    "#model.save_pretrained(\"classifier_camembert_large_UMLS_CUI_SYN_FR_50.pt\")\n",
    "#print(f'Saved model {model_name} after epoch {epoch}')\n",
    "print(f'Kept model {model_name} from epoch {best_epoch}')\n",
    "\n",
    "\n"
   ]
  },
  {
   "cell_type": "code",
   "execution_count": 46,
   "metadata": {
    "tags": []
   },
   "outputs": [
    {
     "name": "stdout",
     "output_type": "stream",
     "text": [
      "Load model from 20220209T092729_expe_pheno_classifier_camembert_l_umls_fr_local_best\n"
     ]
    },
    {
     "name": "stderr",
     "output_type": "stream",
     "text": [
      "/export/home/cse200093/.user_conda/miniconda/envs/Expe_Pheno/lib/python3.7/site-packages/ipykernel_launcher.py:10: UserWarning: To copy construct from a tensor, it is recommended to use sourceTensor.clone().detach() or sourceTensor.clone().detach().requires_grad_(True), rather than torch.tensor(sourceTensor).\n",
      "  # Remove the CWD from sys.path while we load stuff.\n"
     ]
    },
    {
     "name": "stdout",
     "output_type": "stream",
     "text": [
      "done\n"
     ]
    }
   ],
   "source": [
    "## Calculate Accuracy - maximize F1 accuracy by tuning threshold values. First with 'macro_thresholds' on the order of e^-1 \n",
    "# then with 'micro_thresholds' on the order of e^-2\n",
    "import pickle\n",
    "\n",
    "# model_name = '20210702T120040_classifier_camembert_umls_fr_en_translated'\n",
    "# model_name = '20220208T153725_expe_pheno_classifier_camembert_l_umls_fr_local'\n",
    "model_path = model_name + '_best'\n",
    "\n",
    "\n",
    "print(f'Load model from {model_path}')\n",
    "if 'camembert' in bert_name.lower():\n",
    "    model = CamembertForSequenceClassification.from_pretrained(model_path, \n",
    "                                                               num_labels = num_labels)\n",
    "else:    \n",
    "    model = BertForSequenceClassification.from_pretrained(model_path, \n",
    "                                                          num_labels = num_labels)\n",
    "    \n",
    "device = torch.device('cuda') if torch.cuda.is_available() else torch.device('cpu')\n",
    "model.to(device)\n",
    "    \n",
    "model.eval()\n",
    "# Variables to gather full output\n",
    "logit_preds,true_labels,pred_labels,tokenized_texts = [],[],[],[]\n",
    "\n",
    "for batch in val_loader:\n",
    "    input_ids = batch['input_ids'].to(device)\n",
    "    attention_mask = batch['attention_mask'].to(device)\n",
    "    labels = batch['labels'].to(device)\n",
    "    with torch.no_grad():\n",
    "        outs = model(input_ids, token_type_ids=None, attention_mask=attention_mask)\n",
    "        logit_pred = outs[0]\n",
    "        pred_label = torch.sigmoid(logit_pred)\n",
    "        logit_pred = logit_pred.detach().cpu().numpy()\n",
    "        pred_label = pred_label.to('cpu').numpy()\n",
    "        labels = labels.to('cpu').numpy()\n",
    "        tokenized_texts.extend(input_ids)\n",
    "        logit_preds.extend(logit_pred)\n",
    "        true_labels.extend(labels)\n",
    "        pred_labels.extend(pred_label)\n",
    "\n",
    "# Flatten outputs\n",
    "#pred_labels = [item for sublist in pred_labels_1 for item in sublist]\n",
    "#true_labels = [item for sublist in true_labels for item in sublist]\n",
    "\n",
    "# pred_labels: (N x num_labels)\n",
    "pred_labels = np.array(pred_labels)\n",
    "\n",
    "true_bools = [tl==1 for tl in true_labels]\n",
    "true_bools = np.array(true_bools)\n",
    "print('done')"
   ]
  },
  {
   "cell_type": "code",
   "execution_count": 47,
   "metadata": {
    "collapsed": true,
    "jupyter": {
     "outputs_hidden": true
    },
    "tags": []
   },
   "outputs": [
    {
     "name": "stdout",
     "output_type": "stream",
     "text": [
      "Best Thresholds:  [0.99, 0.99, 0.99, 0.99, 0.99, 0.99, 0.99, 0.99, 0.99, 0.99, 0.99, 0.99, 0.99, 0.99, 0.99, 0.99, 0.99, 0.99, 0.99, 0.99, 0.99, 0.99]\n",
      "Best thresholds saved to ./out/thresholds_20220209T092729_expe_pheno_classifier_camembert_l_umls_fr_local.csv\n",
      "Classification report saved to ./results/classification_report_20220209T092729_expe_pheno_classifier_camembert_l_umls_fr_local.txt\n",
      "Label names saved to ./out/labels_20220209T092729_expe_pheno_classifier_camembert_l_umls_fr_local.csv\n",
      "                   precision    recall  f1-score   support\n",
      "\n",
      "              ORL       0.00      0.00      0.00       121\n",
      "        blessures       0.95      0.40      0.57       225\n",
      "cardiovasculaires       0.94      0.74      0.83       740\n",
      "        chimiques       0.97      0.82      0.89       163\n",
      "         digestif       0.95      0.76      0.85       404\n",
      "   endocriniennes       0.97      0.41      0.58       210\n",
      "         etatsosy       0.87      0.72      0.79      1545\n",
      "        genetique       0.96      0.52      0.68       661\n",
      "      hemopathies       0.94      0.76      0.84       385\n",
      "      immunitaire       0.95      0.51      0.67       419\n",
      "       infections       0.94      0.71      0.81       725\n",
      "          nerveux       0.95      0.73      0.83       868\n",
      "  nutritionnelles       0.93      0.61      0.74       340\n",
      "             oeil       0.96      0.51      0.66       246\n",
      " osteomusculaires       0.94      0.58      0.72       438\n",
      "     parasitaires       0.00      0.00      0.00        35\n",
      "             peau       0.90      0.67      0.77       513\n",
      "     respiratoire       0.91      0.64      0.75       334\n",
      " stomatognathique       1.00      0.08      0.14       205\n",
      "           tumeur       0.93      0.83      0.88       601\n",
      "           urogen       0.92      0.83      0.87       511\n",
      "          virales       0.00      0.00      0.00        64\n",
      "\n",
      "        micro avg       0.93      0.65      0.77      9753\n",
      "        macro avg       0.81      0.54      0.63      9753\n",
      "     weighted avg       0.91      0.65      0.75      9753\n",
      "      samples avg       0.81      0.70      0.73      9753\n",
      "\n"
     ]
    },
    {
     "name": "stderr",
     "output_type": "stream",
     "text": [
      "/export/home/cse200093/.local/lib/python3.7/site-packages/sklearn/metrics/_classification.py:1248: UndefinedMetricWarning: Precision and F-score are ill-defined and being set to 0.0 in labels with no predicted samples. Use `zero_division` parameter to control this behavior.\n",
      "  _warn_prf(average, modifier, msg_start, len(result))\n",
      "/export/home/cse200093/.local/lib/python3.7/site-packages/sklearn/metrics/_classification.py:1248: UndefinedMetricWarning: Precision and F-score are ill-defined and being set to 0.0 in samples with no predicted labels. Use `zero_division` parameter to control this behavior.\n",
      "  _warn_prf(average, modifier, msg_start, len(result))\n"
     ]
    }
   ],
   "source": [
    "best_thresholds, best_value, clf_report_optimized = get_best_threshold(pred_labels, true_bools, threshold_mode, criterion=precision_score)\n",
    "thresholds_path = f'./out/thresholds_{model_name}.csv'\n",
    "print('Best Thresholds: ', best_thresholds) \n",
    "np.savetxt(thresholds_path, np.array(best_thresholds), \n",
    "              delimiter=\",\")\n",
    "print(f'Best thresholds saved to {thresholds_path}')\n",
    "\n",
    "classif_report_path = f'./results/classification_report_{model_name}.txt'\n",
    "pickle.dump(clf_report_optimized, open(classif_report_path,'wb'))\n",
    "print(f'Classification report saved to {classif_report_path}')\n",
    "labels_path = f'./out/labels_{model_name}.csv'\n",
    "with open(labels_path, 'w') as f_out:\n",
    "    f_out.write(','.join(label_names) + '\\n')\n",
    "print(f'Label names saved to {labels_path}')\n",
    "print(clf_report_optimized)"
   ]
  },
  {
   "cell_type": "code",
   "execution_count": 17,
   "metadata": {},
   "outputs": [
    {
     "name": "stdout",
     "output_type": "stream",
     "text": [
      "Label names loaded from ./out/labels_20220209T092729_expe_pheno_classifier_camembert_l_umls_fr_local.csv\n",
      "Load model from 20220209T092729_expe_pheno_classifier_camembert_l_umls_fr_local_best\n",
      "Results save to ./out/final_CRH_VAL_PHENO_pred_20220209T092729_expe_pheno_classifier_camembert_l_umls_fr_local.csv\n"
     ]
    }
   ],
   "source": [
    "model_name = '20220209T092729_expe_pheno_classifier_camembert_l_umls_fr_local'\n",
    "\n",
    "model_path = model_name + '_best'\n",
    "# predicting the data \n",
    "device = torch.device('cuda') if torch.cuda.is_available() else torch.device('cpu')\n",
    "# Create test dataloader\n",
    "# test_inputs, test_masks, test_labels, test_token_types\n",
    "test_dataset = TensorDataset(test_tokenizer_texts['input_ids'], test_tokenizer_texts['attention_mask'])\n",
    "test_sampler = SequentialSampler(test_dataset)\n",
    "test_dataloader = DataLoader(test_dataset, sampler=test_sampler, batch_size=16)\n",
    "\n",
    "final_outputs = []\n",
    "\n",
    "labels_path = f'./out/labels_{model_name}.csv'\n",
    "with open(labels_path, 'r') as f_out:\n",
    "    label_names = f_out.readline().strip().split(',')\n",
    "print(f'Label names loaded from {labels_path}')\n",
    "\n",
    "num_labels = len(label_names)\n",
    "# load the model \n",
    "model_path = model_name + '_best'\n",
    "print(f'Load model from {model_path}')\n",
    "if 'camembert' in bert_name.lower():\n",
    "    model = CamembertForSequenceClassification.from_pretrained(model_path, \n",
    "                                                               num_labels = num_labels)\n",
    "else:    \n",
    "    model = BertForSequenceClassification.from_pretrained(model_name, \n",
    "                                                          num_labels = num_labels)\n",
    "\n",
    "model.to(device)\n",
    "\n",
    "#Iterate over the test_loader \n",
    "for step, batch in enumerate(test_dataloader):\n",
    "    #Transfer batch to GPUs --> not adapted for EDS computation\n",
    "    batch = tuple(t.to(device) for t in batch)\n",
    "    #We dont need to update gradients as we are just predicting\n",
    "    with torch.no_grad():\n",
    "        #Bring up the next batch of input_texts and attention_masks \n",
    "        b_input_ids, b_input_mask = batch\n",
    "        #Forward propogate the inputs and get output as logits\n",
    "        outputs = model(b_input_ids, token_type_ids = None, attention_mask = b_input_mask)\n",
    "        #Pass the outputs through a sigmoid function to get the multi-label predictions\n",
    "        s = Sigmoid()\n",
    "        out = s(outputs.logits).to('cpu').numpy()    \n",
    "        #Add the predictions for this batch to the final list\n",
    "        final_outputs.extend(out)\n",
    "            \n",
    "#Merge test df and submission table to have all columns in a table\n",
    "# df_test = pd.merge(df_test, sample_submission, on = \"id\")\n",
    "#Assign the predictions to the labels columns\n",
    "df_test[label_names] = final_outputs\n",
    "\n",
    "\n",
    "# Saving the dataframe\n",
    "result_path = f'./out/final_CRH_VAL_PHENO_pred_{model_name}.csv'\n",
    "df_test.to_csv(result_path, index = False)\n",
    "print(f'Results save to {result_path}')"
   ]
  },
  {
   "cell_type": "code",
   "execution_count": 18,
   "metadata": {},
   "outputs": [
    {
     "data": {
      "text/plain": [
       "18818"
      ]
     },
     "execution_count": 18,
     "metadata": {},
     "output_type": "execute_result"
    }
   ],
   "source": [
    "len(df_test)"
   ]
  },
  {
   "cell_type": "code",
   "execution_count": 19,
   "metadata": {},
   "outputs": [
    {
     "data": {
      "text/plain": [
       "source\n",
       "CRH_val_sample_0.ann          25\n",
       "CRH_val_sample_1.ann          52\n",
       "CRH_val_sample_10.ann         82\n",
       "CRH_val_sample_100.ann        43\n",
       "CRH_val_sample_101.ann        29\n",
       "                            ... \n",
       "NEW_CRH_val_sample_9.ann      38\n",
       "NEW_CRH_val_sample_90.ann    120\n",
       "NEW_CRH_val_sample_92.ann     59\n",
       "NEW_CRH_val_sample_97.ann     48\n",
       "NEW_CRH_val_sample_99.ann     48\n",
       "Name: term, Length: 256, dtype: int64"
      ]
     },
     "execution_count": 19,
     "metadata": {},
     "output_type": "execute_result"
    }
   ],
   "source": [
    "df_check = df_test.groupby('source')['term'].nunique()\n",
    "\n",
    "df_check"
   ]
  },
  {
   "cell_type": "code",
   "execution_count": null,
   "metadata": {},
   "outputs": [],
   "source": []
  }
 ],
 "metadata": {
  "kernelspec": {
   "display_name": "Expe_Pheno",
   "language": "python",
   "name": "expe_pheno"
  },
  "language_info": {
   "codemirror_mode": {
    "name": "ipython",
    "version": 3
   },
   "file_extension": ".py",
   "mimetype": "text/x-python",
   "name": "python",
   "nbconvert_exporter": "python",
   "pygments_lexer": "ipython3",
   "version": "3.7.9"
  }
 },
 "nbformat": 4,
 "nbformat_minor": 4
}
